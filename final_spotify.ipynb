{
 "cells": [
  {
   "cell_type": "code",
   "execution_count": 7,
   "metadata": {},
   "outputs": [],
   "source": [
    "# prerequests\n",
    "import pandas as pd \n",
    "import matplotlib\n",
    "import os \n",
    "import matplotlib.pyplot as plt\n",
    "import numpy as np \n",
    "import scipy.stats as sts\n",
    "import seaborn as sns\n",
    "from scipy.stats import linregress"
   ]
  },
  {
   "cell_type": "code",
   "execution_count": 8,
   "metadata": {},
   "outputs": [],
   "source": [
    "# file 1\n",
    "file1_path = \"/Users/amralwakeal/Desktop/Project-Group-5/Repo5/Project-Group-5/Resources/Hot 100 Audio Features.csv\""
   ]
  },
  {
   "cell_type": "code",
   "execution_count": 9,
   "metadata": {},
   "outputs": [],
   "source": [
    "# file 2\n",
    "file2_path = \"/Users/amralwakeal/Desktop/Project-Group-5/Repo5/Project-Group-5/Resources/Hot Stuff.csv\""
   ]
  },
  {
   "cell_type": "code",
   "execution_count": 10,
   "metadata": {},
   "outputs": [],
   "source": [
    "audio_df = pd.read_csv(file1_path, encoding='ISO-8859-1')"
   ]
  },
  {
   "cell_type": "code",
   "execution_count": 11,
   "metadata": {},
   "outputs": [],
   "source": [
    "stuff_df = pd.read_csv(file2_path, encoding='ISO-8859-1')"
   ]
  },
  {
   "cell_type": "code",
   "execution_count": 12,
   "metadata": {},
   "outputs": [],
   "source": [
    "# new df \n",
    "new_mix = audio_df.merge(stuff_df, on=['SongID', 'Performer','Song'], how='left')"
   ]
  },
  {
   "cell_type": "code",
   "execution_count": 13,
   "metadata": {},
   "outputs": [],
   "source": [
    "# Drop null values\n",
    "new_mix.dropna(inplace=True)"
   ]
  },
  {
   "cell_type": "code",
   "execution_count": 14,
   "metadata": {},
   "outputs": [],
   "source": [
    "new_df = pd.DataFrame(new_mix.loc[:, ['SongID', 'Performer', 'Song', 'spotify_genre', 'spotify_track_album', \n",
    "                                      'spotify_track_explicit', 'spotify_track_popularity', 'WeekID', 'Week Position', 'Instance', \n",
    "                                      'Previous Week Position', 'Peak Position', 'Weeks on Chart']])"
   ]
  },
  {
   "cell_type": "code",
   "execution_count": null,
   "metadata": {},
   "outputs": [],
   "source": []
  },
  {
   "cell_type": "code",
   "execution_count": 15,
   "metadata": {},
   "outputs": [],
   "source": [
    "# clean columns\n",
    "new_df.rename(columns = {'SongID':'Song_id', 'spotify_genre': 'Genre', 'spotify_track_album': 'Album', 'spotify_track_popularity': 'Popularity', 'WeekID':'Week'}, inplace = True)"
   ]
  },
  {
   "cell_type": "code",
   "execution_count": 16,
   "metadata": {},
   "outputs": [],
   "source": [
    "# clean rows\n",
    "spec_chars = [\"!\",'\"',\"#\",\"%\",\"&\",\"'\",\"(\",\")\",\n",
    "              \"*\",\"+\",\",\",\"-\",\".\",\"/\",\":\",\";\",\"<\",\n",
    "              \"=\",\">\",\"?\",\"@\",\"[\",\"\\\\\",\"]\",\"^\",\"_\",\n",
    "              \"`\",\"{\",\"|\",\"}\",\"~\",\"–\", \"1\", \"2\", \"3\", \"4\", \"5\", \"6\", \"7\", \"8\", \"9\", \"10\"]\n",
    "for char in spec_chars:\n",
    "    new_df[\"Genre\"] = new_df[\"Genre\"].str.replace(char, ' ')\n",
    "\n",
    "\n",
    "for char in spec_chars:\n",
    "    new_df[\"Performer\"] = new_df[\"Performer\"].str.replace(char, ' ')"
   ]
  },
  {
   "cell_type": "code",
   "execution_count": 17,
   "metadata": {},
   "outputs": [],
   "source": [
    "new_df['Year'] = pd.DatetimeIndex(new_df['Week']).year"
   ]
  },
  {
   "cell_type": "code",
   "execution_count": null,
   "metadata": {},
   "outputs": [],
   "source": []
  },
  {
   "cell_type": "code",
   "execution_count": 18,
   "metadata": {},
   "outputs": [
    {
     "data": {
      "text/html": [
       "<div>\n",
       "<style scoped>\n",
       "    .dataframe tbody tr th:only-of-type {\n",
       "        vertical-align: middle;\n",
       "    }\n",
       "\n",
       "    .dataframe tbody tr th {\n",
       "        vertical-align: top;\n",
       "    }\n",
       "\n",
       "    .dataframe thead th {\n",
       "        text-align: right;\n",
       "    }\n",
       "</style>\n",
       "<table border=\"1\" class=\"dataframe\">\n",
       "  <thead>\n",
       "    <tr style=\"text-align: right;\">\n",
       "      <th></th>\n",
       "      <th>Song_id</th>\n",
       "      <th>Performer</th>\n",
       "      <th>Song</th>\n",
       "      <th>Genre</th>\n",
       "      <th>Album</th>\n",
       "      <th>spotify_track_explicit</th>\n",
       "      <th>Popularity</th>\n",
       "      <th>Week</th>\n",
       "      <th>Week Position</th>\n",
       "      <th>Instance</th>\n",
       "      <th>Previous Week Position</th>\n",
       "      <th>Peak Position</th>\n",
       "      <th>Weeks on Chart</th>\n",
       "      <th>Year</th>\n",
       "    </tr>\n",
       "  </thead>\n",
       "  <tbody>\n",
       "    <tr>\n",
       "      <th>79</th>\n",
       "      <td>Bacc At It AgainYella Beezy, Gucci Mane &amp; Quavo</td>\n",
       "      <td>Yella Beezy  Gucci Mane   Quavo</td>\n",
       "      <td>Bacc At It Again</td>\n",
       "      <td>dfw rap    rap    southern hip hop    trap</td>\n",
       "      <td>Bacc At It Again</td>\n",
       "      <td>True</td>\n",
       "      <td>61.0</td>\n",
       "      <td>6/15/2019</td>\n",
       "      <td>98.0</td>\n",
       "      <td>1.0</td>\n",
       "      <td>94.0</td>\n",
       "      <td>94.0</td>\n",
       "      <td>2.0</td>\n",
       "      <td>2019</td>\n",
       "    </tr>\n",
       "    <tr>\n",
       "      <th>80</th>\n",
       "      <td>Bacc At It AgainYella Beezy, Gucci Mane &amp; Quavo</td>\n",
       "      <td>Yella Beezy  Gucci Mane   Quavo</td>\n",
       "      <td>Bacc At It Again</td>\n",
       "      <td>dfw rap    rap    southern hip hop    trap</td>\n",
       "      <td>Bacc At It Again</td>\n",
       "      <td>True</td>\n",
       "      <td>61.0</td>\n",
       "      <td>6/22/2019</td>\n",
       "      <td>94.0</td>\n",
       "      <td>1.0</td>\n",
       "      <td>98.0</td>\n",
       "      <td>94.0</td>\n",
       "      <td>3.0</td>\n",
       "      <td>2019</td>\n",
       "    </tr>\n",
       "    <tr>\n",
       "      <th>81</th>\n",
       "      <td>Bacc At It AgainYella Beezy, Gucci Mane &amp; Quavo</td>\n",
       "      <td>Yella Beezy  Gucci Mane   Quavo</td>\n",
       "      <td>Bacc At It Again</td>\n",
       "      <td>dfw rap    rap    southern hip hop    trap</td>\n",
       "      <td>Bacc At It Again</td>\n",
       "      <td>True</td>\n",
       "      <td>61.0</td>\n",
       "      <td>6/29/2019</td>\n",
       "      <td>87.0</td>\n",
       "      <td>1.0</td>\n",
       "      <td>94.0</td>\n",
       "      <td>87.0</td>\n",
       "      <td>4.0</td>\n",
       "      <td>2019</td>\n",
       "    </tr>\n",
       "    <tr>\n",
       "      <th>82</th>\n",
       "      <td>Bacc At It AgainYella Beezy, Gucci Mane &amp; Quavo</td>\n",
       "      <td>Yella Beezy  Gucci Mane   Quavo</td>\n",
       "      <td>Bacc At It Again</td>\n",
       "      <td>dfw rap    rap    southern hip hop    trap</td>\n",
       "      <td>Bacc At It Again</td>\n",
       "      <td>True</td>\n",
       "      <td>61.0</td>\n",
       "      <td>7/6/2019</td>\n",
       "      <td>78.0</td>\n",
       "      <td>1.0</td>\n",
       "      <td>87.0</td>\n",
       "      <td>78.0</td>\n",
       "      <td>5.0</td>\n",
       "      <td>2019</td>\n",
       "    </tr>\n",
       "    <tr>\n",
       "      <th>83</th>\n",
       "      <td>Bacc At It AgainYella Beezy, Gucci Mane &amp; Quavo</td>\n",
       "      <td>Yella Beezy  Gucci Mane   Quavo</td>\n",
       "      <td>Bacc At It Again</td>\n",
       "      <td>dfw rap    rap    southern hip hop    trap</td>\n",
       "      <td>Bacc At It Again</td>\n",
       "      <td>True</td>\n",
       "      <td>61.0</td>\n",
       "      <td>7/13/2019</td>\n",
       "      <td>98.0</td>\n",
       "      <td>1.0</td>\n",
       "      <td>78.0</td>\n",
       "      <td>78.0</td>\n",
       "      <td>6.0</td>\n",
       "      <td>2019</td>\n",
       "    </tr>\n",
       "  </tbody>\n",
       "</table>\n",
       "</div>"
      ],
      "text/plain": [
       "                                            Song_id  \\\n",
       "79  Bacc At It AgainYella Beezy, Gucci Mane & Quavo   \n",
       "80  Bacc At It AgainYella Beezy, Gucci Mane & Quavo   \n",
       "81  Bacc At It AgainYella Beezy, Gucci Mane & Quavo   \n",
       "82  Bacc At It AgainYella Beezy, Gucci Mane & Quavo   \n",
       "83  Bacc At It AgainYella Beezy, Gucci Mane & Quavo   \n",
       "\n",
       "                          Performer              Song  \\\n",
       "79  Yella Beezy  Gucci Mane   Quavo  Bacc At It Again   \n",
       "80  Yella Beezy  Gucci Mane   Quavo  Bacc At It Again   \n",
       "81  Yella Beezy  Gucci Mane   Quavo  Bacc At It Again   \n",
       "82  Yella Beezy  Gucci Mane   Quavo  Bacc At It Again   \n",
       "83  Yella Beezy  Gucci Mane   Quavo  Bacc At It Again   \n",
       "\n",
       "                                             Genre             Album  \\\n",
       "79    dfw rap    rap    southern hip hop    trap    Bacc At It Again   \n",
       "80    dfw rap    rap    southern hip hop    trap    Bacc At It Again   \n",
       "81    dfw rap    rap    southern hip hop    trap    Bacc At It Again   \n",
       "82    dfw rap    rap    southern hip hop    trap    Bacc At It Again   \n",
       "83    dfw rap    rap    southern hip hop    trap    Bacc At It Again   \n",
       "\n",
       "   spotify_track_explicit  Popularity       Week  Week Position  Instance  \\\n",
       "79                   True        61.0  6/15/2019           98.0       1.0   \n",
       "80                   True        61.0  6/22/2019           94.0       1.0   \n",
       "81                   True        61.0  6/29/2019           87.0       1.0   \n",
       "82                   True        61.0   7/6/2019           78.0       1.0   \n",
       "83                   True        61.0  7/13/2019           98.0       1.0   \n",
       "\n",
       "    Previous Week Position  Peak Position  Weeks on Chart  Year  \n",
       "79                    94.0           94.0             2.0  2019  \n",
       "80                    98.0           94.0             3.0  2019  \n",
       "81                    94.0           87.0             4.0  2019  \n",
       "82                    87.0           78.0             5.0  2019  \n",
       "83                    78.0           78.0             6.0  2019  "
      ]
     },
     "execution_count": 18,
     "metadata": {},
     "output_type": "execute_result"
    }
   ],
   "source": [
    "new_df.head(5)"
   ]
  },
  {
   "cell_type": "code",
   "execution_count": 19,
   "metadata": {},
   "outputs": [],
   "source": [
    "#new_df['Year'] = pd.DatetimeIndex(new_df['Year']).year"
   ]
  },
  {
   "cell_type": "code",
   "execution_count": 20,
   "metadata": {},
   "outputs": [],
   "source": [
    "# change Date\n",
    "#pd.to_datetime(new_df['Year'])\n",
    "#pd.to_datetime(new_df['Year']).dt.month.hist()\n",
    "#pd.to_datetime(new_df['Year']).dt.year"
   ]
  },
  {
   "cell_type": "code",
   "execution_count": 21,
   "metadata": {},
   "outputs": [
    {
     "data": {
      "text/html": [
       "<div>\n",
       "<style scoped>\n",
       "    .dataframe tbody tr th:only-of-type {\n",
       "        vertical-align: middle;\n",
       "    }\n",
       "\n",
       "    .dataframe tbody tr th {\n",
       "        vertical-align: top;\n",
       "    }\n",
       "\n",
       "    .dataframe thead th {\n",
       "        text-align: right;\n",
       "    }\n",
       "</style>\n",
       "<table border=\"1\" class=\"dataframe\">\n",
       "  <thead>\n",
       "    <tr style=\"text-align: right;\">\n",
       "      <th></th>\n",
       "      <th>Popularity</th>\n",
       "      <th>Week Position</th>\n",
       "      <th>Instance</th>\n",
       "      <th>Previous Week Position</th>\n",
       "      <th>Peak Position</th>\n",
       "      <th>Weeks on Chart</th>\n",
       "      <th>Year</th>\n",
       "    </tr>\n",
       "  </thead>\n",
       "  <tbody>\n",
       "    <tr>\n",
       "      <th>count</th>\n",
       "      <td>149926.000000</td>\n",
       "      <td>149926.000000</td>\n",
       "      <td>149926.000000</td>\n",
       "      <td>149926.000000</td>\n",
       "      <td>149926.000000</td>\n",
       "      <td>149926.000000</td>\n",
       "      <td>149926.000000</td>\n",
       "    </tr>\n",
       "    <tr>\n",
       "      <th>mean</th>\n",
       "      <td>46.920574</td>\n",
       "      <td>47.230347</td>\n",
       "      <td>1.066279</td>\n",
       "      <td>47.640856</td>\n",
       "      <td>37.280065</td>\n",
       "      <td>10.086489</td>\n",
       "      <td>1989.651728</td>\n",
       "    </tr>\n",
       "    <tr>\n",
       "      <th>std</th>\n",
       "      <td>21.342536</td>\n",
       "      <td>27.709479</td>\n",
       "      <td>0.314238</td>\n",
       "      <td>27.909664</td>\n",
       "      <td>27.062304</td>\n",
       "      <td>7.423037</td>\n",
       "      <td>17.353608</td>\n",
       "    </tr>\n",
       "    <tr>\n",
       "      <th>min</th>\n",
       "      <td>0.000000</td>\n",
       "      <td>1.000000</td>\n",
       "      <td>1.000000</td>\n",
       "      <td>1.000000</td>\n",
       "      <td>1.000000</td>\n",
       "      <td>2.000000</td>\n",
       "      <td>1958.000000</td>\n",
       "    </tr>\n",
       "    <tr>\n",
       "      <th>25%</th>\n",
       "      <td>32.000000</td>\n",
       "      <td>24.000000</td>\n",
       "      <td>1.000000</td>\n",
       "      <td>23.000000</td>\n",
       "      <td>12.000000</td>\n",
       "      <td>5.000000</td>\n",
       "      <td>1975.000000</td>\n",
       "    </tr>\n",
       "    <tr>\n",
       "      <th>50%</th>\n",
       "      <td>50.000000</td>\n",
       "      <td>46.000000</td>\n",
       "      <td>1.000000</td>\n",
       "      <td>47.000000</td>\n",
       "      <td>34.000000</td>\n",
       "      <td>8.000000</td>\n",
       "      <td>1990.000000</td>\n",
       "    </tr>\n",
       "    <tr>\n",
       "      <th>75%</th>\n",
       "      <td>63.000000</td>\n",
       "      <td>70.000000</td>\n",
       "      <td>1.000000</td>\n",
       "      <td>71.000000</td>\n",
       "      <td>59.000000</td>\n",
       "      <td>14.000000</td>\n",
       "      <td>2004.000000</td>\n",
       "    </tr>\n",
       "    <tr>\n",
       "      <th>max</th>\n",
       "      <td>100.000000</td>\n",
       "      <td>100.000000</td>\n",
       "      <td>9.000000</td>\n",
       "      <td>100.000000</td>\n",
       "      <td>100.000000</td>\n",
       "      <td>79.000000</td>\n",
       "      <td>2019.000000</td>\n",
       "    </tr>\n",
       "  </tbody>\n",
       "</table>\n",
       "</div>"
      ],
      "text/plain": [
       "          Popularity  Week Position       Instance  Previous Week Position  \\\n",
       "count  149926.000000  149926.000000  149926.000000           149926.000000   \n",
       "mean       46.920574      47.230347       1.066279               47.640856   \n",
       "std        21.342536      27.709479       0.314238               27.909664   \n",
       "min         0.000000       1.000000       1.000000                1.000000   \n",
       "25%        32.000000      24.000000       1.000000               23.000000   \n",
       "50%        50.000000      46.000000       1.000000               47.000000   \n",
       "75%        63.000000      70.000000       1.000000               71.000000   \n",
       "max       100.000000     100.000000       9.000000              100.000000   \n",
       "\n",
       "       Peak Position  Weeks on Chart           Year  \n",
       "count  149926.000000   149926.000000  149926.000000  \n",
       "mean       37.280065       10.086489    1989.651728  \n",
       "std        27.062304        7.423037      17.353608  \n",
       "min         1.000000        2.000000    1958.000000  \n",
       "25%        12.000000        5.000000    1975.000000  \n",
       "50%        34.000000        8.000000    1990.000000  \n",
       "75%        59.000000       14.000000    2004.000000  \n",
       "max       100.000000       79.000000    2019.000000  "
      ]
     },
     "execution_count": 21,
     "metadata": {},
     "output_type": "execute_result"
    }
   ],
   "source": [
    "new_df.describe()"
   ]
  },
  {
   "cell_type": "code",
   "execution_count": 22,
   "metadata": {},
   "outputs": [],
   "source": [
    "bins = [1960, 1969, 1979, 1989, 1999, 2009, 2019, 2029]\n",
    "labels = ['60s', '70s', '80s', '90s', '2000s', '2010s', '2020s']"
   ]
  },
  {
   "cell_type": "code",
   "execution_count": 23,
   "metadata": {},
   "outputs": [],
   "source": [
    "\n",
    "new_df['Decade'] = pd.cut(x=new_df['Year'], bins=[1960, 1969, 1979, 1989, 1999, 2009, 2019, 2029], labels=['60s', '70s', '80s', '90s', '2000s', '2010s', '2020s'])"
   ]
  },
  {
   "cell_type": "code",
   "execution_count": 24,
   "metadata": {},
   "outputs": [
    {
     "data": {
      "text/html": [
       "<div>\n",
       "<style scoped>\n",
       "    .dataframe tbody tr th:only-of-type {\n",
       "        vertical-align: middle;\n",
       "    }\n",
       "\n",
       "    .dataframe tbody tr th {\n",
       "        vertical-align: top;\n",
       "    }\n",
       "\n",
       "    .dataframe thead th {\n",
       "        text-align: right;\n",
       "    }\n",
       "</style>\n",
       "<table border=\"1\" class=\"dataframe\">\n",
       "  <thead>\n",
       "    <tr style=\"text-align: right;\">\n",
       "      <th></th>\n",
       "      <th>Song_id</th>\n",
       "      <th>Performer</th>\n",
       "      <th>Song</th>\n",
       "      <th>Genre</th>\n",
       "      <th>Album</th>\n",
       "      <th>spotify_track_explicit</th>\n",
       "      <th>Popularity</th>\n",
       "      <th>Week</th>\n",
       "      <th>Week Position</th>\n",
       "      <th>Instance</th>\n",
       "      <th>Previous Week Position</th>\n",
       "      <th>Peak Position</th>\n",
       "      <th>Weeks on Chart</th>\n",
       "      <th>Year</th>\n",
       "      <th>Decade</th>\n",
       "    </tr>\n",
       "  </thead>\n",
       "  <tbody>\n",
       "    <tr>\n",
       "      <th>79</th>\n",
       "      <td>Bacc At It AgainYella Beezy, Gucci Mane &amp; Quavo</td>\n",
       "      <td>Yella Beezy  Gucci Mane   Quavo</td>\n",
       "      <td>Bacc At It Again</td>\n",
       "      <td>dfw rap    rap    southern hip hop    trap</td>\n",
       "      <td>Bacc At It Again</td>\n",
       "      <td>True</td>\n",
       "      <td>61.0</td>\n",
       "      <td>6/15/2019</td>\n",
       "      <td>98.0</td>\n",
       "      <td>1.0</td>\n",
       "      <td>94.0</td>\n",
       "      <td>94.0</td>\n",
       "      <td>2.0</td>\n",
       "      <td>2019</td>\n",
       "      <td>2010s</td>\n",
       "    </tr>\n",
       "    <tr>\n",
       "      <th>80</th>\n",
       "      <td>Bacc At It AgainYella Beezy, Gucci Mane &amp; Quavo</td>\n",
       "      <td>Yella Beezy  Gucci Mane   Quavo</td>\n",
       "      <td>Bacc At It Again</td>\n",
       "      <td>dfw rap    rap    southern hip hop    trap</td>\n",
       "      <td>Bacc At It Again</td>\n",
       "      <td>True</td>\n",
       "      <td>61.0</td>\n",
       "      <td>6/22/2019</td>\n",
       "      <td>94.0</td>\n",
       "      <td>1.0</td>\n",
       "      <td>98.0</td>\n",
       "      <td>94.0</td>\n",
       "      <td>3.0</td>\n",
       "      <td>2019</td>\n",
       "      <td>2010s</td>\n",
       "    </tr>\n",
       "    <tr>\n",
       "      <th>81</th>\n",
       "      <td>Bacc At It AgainYella Beezy, Gucci Mane &amp; Quavo</td>\n",
       "      <td>Yella Beezy  Gucci Mane   Quavo</td>\n",
       "      <td>Bacc At It Again</td>\n",
       "      <td>dfw rap    rap    southern hip hop    trap</td>\n",
       "      <td>Bacc At It Again</td>\n",
       "      <td>True</td>\n",
       "      <td>61.0</td>\n",
       "      <td>6/29/2019</td>\n",
       "      <td>87.0</td>\n",
       "      <td>1.0</td>\n",
       "      <td>94.0</td>\n",
       "      <td>87.0</td>\n",
       "      <td>4.0</td>\n",
       "      <td>2019</td>\n",
       "      <td>2010s</td>\n",
       "    </tr>\n",
       "    <tr>\n",
       "      <th>82</th>\n",
       "      <td>Bacc At It AgainYella Beezy, Gucci Mane &amp; Quavo</td>\n",
       "      <td>Yella Beezy  Gucci Mane   Quavo</td>\n",
       "      <td>Bacc At It Again</td>\n",
       "      <td>dfw rap    rap    southern hip hop    trap</td>\n",
       "      <td>Bacc At It Again</td>\n",
       "      <td>True</td>\n",
       "      <td>61.0</td>\n",
       "      <td>7/6/2019</td>\n",
       "      <td>78.0</td>\n",
       "      <td>1.0</td>\n",
       "      <td>87.0</td>\n",
       "      <td>78.0</td>\n",
       "      <td>5.0</td>\n",
       "      <td>2019</td>\n",
       "      <td>2010s</td>\n",
       "    </tr>\n",
       "    <tr>\n",
       "      <th>83</th>\n",
       "      <td>Bacc At It AgainYella Beezy, Gucci Mane &amp; Quavo</td>\n",
       "      <td>Yella Beezy  Gucci Mane   Quavo</td>\n",
       "      <td>Bacc At It Again</td>\n",
       "      <td>dfw rap    rap    southern hip hop    trap</td>\n",
       "      <td>Bacc At It Again</td>\n",
       "      <td>True</td>\n",
       "      <td>61.0</td>\n",
       "      <td>7/13/2019</td>\n",
       "      <td>98.0</td>\n",
       "      <td>1.0</td>\n",
       "      <td>78.0</td>\n",
       "      <td>78.0</td>\n",
       "      <td>6.0</td>\n",
       "      <td>2019</td>\n",
       "      <td>2010s</td>\n",
       "    </tr>\n",
       "  </tbody>\n",
       "</table>\n",
       "</div>"
      ],
      "text/plain": [
       "                                            Song_id  \\\n",
       "79  Bacc At It AgainYella Beezy, Gucci Mane & Quavo   \n",
       "80  Bacc At It AgainYella Beezy, Gucci Mane & Quavo   \n",
       "81  Bacc At It AgainYella Beezy, Gucci Mane & Quavo   \n",
       "82  Bacc At It AgainYella Beezy, Gucci Mane & Quavo   \n",
       "83  Bacc At It AgainYella Beezy, Gucci Mane & Quavo   \n",
       "\n",
       "                          Performer              Song  \\\n",
       "79  Yella Beezy  Gucci Mane   Quavo  Bacc At It Again   \n",
       "80  Yella Beezy  Gucci Mane   Quavo  Bacc At It Again   \n",
       "81  Yella Beezy  Gucci Mane   Quavo  Bacc At It Again   \n",
       "82  Yella Beezy  Gucci Mane   Quavo  Bacc At It Again   \n",
       "83  Yella Beezy  Gucci Mane   Quavo  Bacc At It Again   \n",
       "\n",
       "                                             Genre             Album  \\\n",
       "79    dfw rap    rap    southern hip hop    trap    Bacc At It Again   \n",
       "80    dfw rap    rap    southern hip hop    trap    Bacc At It Again   \n",
       "81    dfw rap    rap    southern hip hop    trap    Bacc At It Again   \n",
       "82    dfw rap    rap    southern hip hop    trap    Bacc At It Again   \n",
       "83    dfw rap    rap    southern hip hop    trap    Bacc At It Again   \n",
       "\n",
       "   spotify_track_explicit  Popularity       Week  Week Position  Instance  \\\n",
       "79                   True        61.0  6/15/2019           98.0       1.0   \n",
       "80                   True        61.0  6/22/2019           94.0       1.0   \n",
       "81                   True        61.0  6/29/2019           87.0       1.0   \n",
       "82                   True        61.0   7/6/2019           78.0       1.0   \n",
       "83                   True        61.0  7/13/2019           98.0       1.0   \n",
       "\n",
       "    Previous Week Position  Peak Position  Weeks on Chart  Year Decade  \n",
       "79                    94.0           94.0             2.0  2019  2010s  \n",
       "80                    98.0           94.0             3.0  2019  2010s  \n",
       "81                    94.0           87.0             4.0  2019  2010s  \n",
       "82                    87.0           78.0             5.0  2019  2010s  \n",
       "83                    78.0           78.0             6.0  2019  2010s  "
      ]
     },
     "execution_count": 24,
     "metadata": {},
     "output_type": "execute_result"
    }
   ],
   "source": [
    "#Drop na one more time\n",
    "new_df.dropna(inplace=True)\n",
    "new_df.reset_index()\n",
    "new_df.head(5)\n"
   ]
  },
  {
   "cell_type": "code",
   "execution_count": 25,
   "metadata": {},
   "outputs": [
    {
     "data": {
      "text/plain": [
       "79        94\n",
       "80        98\n",
       "81        94\n",
       "82        87\n",
       "83        78\n",
       "123       77\n",
       "124       57\n",
       "125       70\n",
       "126       61\n",
       "127       47\n",
       "128       41\n",
       "129       55\n",
       "130       56\n",
       "131       57\n",
       "132       43\n",
       "133       46\n",
       "134       39\n",
       "135       36\n",
       "136       37\n",
       "137       38\n",
       "145       81\n",
       "146       98\n",
       "147       90\n",
       "148       84\n",
       "149       95\n",
       "172       95\n",
       "173       92\n",
       "175       72\n",
       "183       19\n",
       "184       11\n",
       "          ..\n",
       "320871    71\n",
       "320872    42\n",
       "320873    35\n",
       "320874    22\n",
       "320875     8\n",
       "320876     1\n",
       "320877     1\n",
       "320878     1\n",
       "320879     1\n",
       "320880     1\n",
       "320881     1\n",
       "320882     1\n",
       "320883     1\n",
       "320884     3\n",
       "320885     6\n",
       "320886    11\n",
       "320887    22\n",
       "320888    30\n",
       "320889    35\n",
       "320890    45\n",
       "320891    60\n",
       "320904    80\n",
       "320905    70\n",
       "320906    70\n",
       "320907    54\n",
       "320908    42\n",
       "320909    32\n",
       "320910    29\n",
       "320911    28\n",
       "320912    32\n",
       "Name: Previous Week Position, Length: 144521, dtype: int64"
      ]
     },
     "execution_count": 25,
     "metadata": {},
     "output_type": "execute_result"
    }
   ],
   "source": [
    "new_df['Previous Week Position'].astype('int64', inplace=True)\n"
   ]
  },
  {
   "cell_type": "code",
   "execution_count": 26,
   "metadata": {},
   "outputs": [],
   "source": [
    "new_df['Peak Position']= new_df['Peak Position'].astype('int64', inplace=True)"
   ]
  },
  {
   "cell_type": "code",
   "execution_count": 27,
   "metadata": {},
   "outputs": [],
   "source": [
    "#primary figure\n",
    "#new_df.hist(figsize=(20, 20))\n",
    "#plt.ylabl = 'years'\n",
    " \n",
    "#ax.get_subplotspec().colspan.start\n",
    "#plt.show()"
   ]
  },
  {
   "cell_type": "code",
   "execution_count": 28,
   "metadata": {},
   "outputs": [],
   "source": [
    "\n",
    "new_df['Popularity'] =new_df['Popularity'].astype('int64', inplace=True) "
   ]
  },
  {
   "cell_type": "code",
   "execution_count": 29,
   "metadata": {},
   "outputs": [],
   "source": [
    "new_df['Weeks on Chart'] = new_df['Weeks on Chart'].astype('int64')"
   ]
  },
  {
   "cell_type": "code",
   "execution_count": 30,
   "metadata": {},
   "outputs": [
    {
     "name": "stdout",
     "output_type": "stream",
     "text": [
      "<class 'pandas.core.frame.DataFrame'>\n",
      "Int64Index: 144521 entries, 79 to 320912\n",
      "Data columns (total 15 columns):\n",
      "Song_id                   144521 non-null object\n",
      "Performer                 144521 non-null object\n",
      "Song                      144521 non-null object\n",
      "Genre                     144521 non-null object\n",
      "Album                     144521 non-null object\n",
      "spotify_track_explicit    144521 non-null object\n",
      "Popularity                144521 non-null int64\n",
      "Week                      144521 non-null object\n",
      "Week Position             144521 non-null float64\n",
      "Instance                  144521 non-null float64\n",
      "Previous Week Position    144521 non-null float64\n",
      "Peak Position             144521 non-null int64\n",
      "Weeks on Chart            144521 non-null int64\n",
      "Year                      144521 non-null int64\n",
      "Decade                    144521 non-null category\n",
      "dtypes: category(1), float64(3), int64(4), object(7)\n",
      "memory usage: 16.7+ MB\n"
     ]
    }
   ],
   "source": [
    "new_df.info()"
   ]
  },
  {
   "cell_type": "code",
   "execution_count": 31,
   "metadata": {},
   "outputs": [],
   "source": [
    "#fig.get_figure()\n",
    "#plt.savefig('users/amralwakeal/Desktop/books_read.png')"
   ]
  },
  {
   "cell_type": "code",
   "execution_count": null,
   "metadata": {},
   "outputs": [],
   "source": []
  },
  {
   "cell_type": "code",
   "execution_count": 32,
   "metadata": {},
   "outputs": [],
   "source": [
    "# group_song/Popularity\n",
    "popular_songs = new_df.groupby(['Song', 'Album', 'Year', 'Performer','Weeks on Chart'], as_index=False).sum()"
   ]
  },
  {
   "cell_type": "code",
   "execution_count": 33,
   "metadata": {},
   "outputs": [
    {
     "data": {
      "text/html": [
       "<div>\n",
       "<style scoped>\n",
       "    .dataframe tbody tr th:only-of-type {\n",
       "        vertical-align: middle;\n",
       "    }\n",
       "\n",
       "    .dataframe tbody tr th {\n",
       "        vertical-align: top;\n",
       "    }\n",
       "\n",
       "    .dataframe thead th {\n",
       "        text-align: right;\n",
       "    }\n",
       "</style>\n",
       "<table border=\"1\" class=\"dataframe\">\n",
       "  <thead>\n",
       "    <tr style=\"text-align: right;\">\n",
       "      <th></th>\n",
       "      <th>Song</th>\n",
       "      <th>Album</th>\n",
       "      <th>Year</th>\n",
       "      <th>Performer</th>\n",
       "      <th>Weeks on Chart</th>\n",
       "      <th>Popularity</th>\n",
       "      <th>Week Position</th>\n",
       "      <th>Instance</th>\n",
       "      <th>Previous Week Position</th>\n",
       "      <th>Peak Position</th>\n",
       "    </tr>\n",
       "  </thead>\n",
       "  <tbody>\n",
       "    <tr>\n",
       "      <th>0</th>\n",
       "      <td>\"B\" Girls</td>\n",
       "      <td>Something To Get You Hyped</td>\n",
       "      <td>1990</td>\n",
       "      <td>Young And Restless</td>\n",
       "      <td>2</td>\n",
       "      <td>20</td>\n",
       "      <td>78.0</td>\n",
       "      <td>1.0</td>\n",
       "      <td>84.0</td>\n",
       "      <td>78</td>\n",
       "    </tr>\n",
       "    <tr>\n",
       "      <th>1</th>\n",
       "      <td>\"B\" Girls</td>\n",
       "      <td>Something To Get You Hyped</td>\n",
       "      <td>1990</td>\n",
       "      <td>Young And Restless</td>\n",
       "      <td>3</td>\n",
       "      <td>20</td>\n",
       "      <td>68.0</td>\n",
       "      <td>1.0</td>\n",
       "      <td>78.0</td>\n",
       "      <td>68</td>\n",
       "    </tr>\n",
       "    <tr>\n",
       "      <th>2</th>\n",
       "      <td>\"B\" Girls</td>\n",
       "      <td>Something To Get You Hyped</td>\n",
       "      <td>1990</td>\n",
       "      <td>Young And Restless</td>\n",
       "      <td>4</td>\n",
       "      <td>20</td>\n",
       "      <td>60.0</td>\n",
       "      <td>1.0</td>\n",
       "      <td>68.0</td>\n",
       "      <td>60</td>\n",
       "    </tr>\n",
       "    <tr>\n",
       "      <th>3</th>\n",
       "      <td>\"B\" Girls</td>\n",
       "      <td>Something To Get You Hyped</td>\n",
       "      <td>1990</td>\n",
       "      <td>Young And Restless</td>\n",
       "      <td>5</td>\n",
       "      <td>20</td>\n",
       "      <td>58.0</td>\n",
       "      <td>1.0</td>\n",
       "      <td>60.0</td>\n",
       "      <td>58</td>\n",
       "    </tr>\n",
       "    <tr>\n",
       "      <th>4</th>\n",
       "      <td>\"B\" Girls</td>\n",
       "      <td>Something To Get You Hyped</td>\n",
       "      <td>1990</td>\n",
       "      <td>Young And Restless</td>\n",
       "      <td>6</td>\n",
       "      <td>20</td>\n",
       "      <td>55.0</td>\n",
       "      <td>1.0</td>\n",
       "      <td>58.0</td>\n",
       "      <td>55</td>\n",
       "    </tr>\n",
       "  </tbody>\n",
       "</table>\n",
       "</div>"
      ],
      "text/plain": [
       "        Song                       Album  Year           Performer  \\\n",
       "0  \"B\" Girls  Something To Get You Hyped  1990  Young And Restless   \n",
       "1  \"B\" Girls  Something To Get You Hyped  1990  Young And Restless   \n",
       "2  \"B\" Girls  Something To Get You Hyped  1990  Young And Restless   \n",
       "3  \"B\" Girls  Something To Get You Hyped  1990  Young And Restless   \n",
       "4  \"B\" Girls  Something To Get You Hyped  1990  Young And Restless   \n",
       "\n",
       "   Weeks on Chart  Popularity  Week Position  Instance  \\\n",
       "0               2          20           78.0       1.0   \n",
       "1               3          20           68.0       1.0   \n",
       "2               4          20           60.0       1.0   \n",
       "3               5          20           58.0       1.0   \n",
       "4               6          20           55.0       1.0   \n",
       "\n",
       "   Previous Week Position  Peak Position  \n",
       "0                    84.0             78  \n",
       "1                    78.0             68  \n",
       "2                    68.0             60  \n",
       "3                    60.0             58  \n",
       "4                    58.0             55  "
      ]
     },
     "execution_count": 33,
     "metadata": {},
     "output_type": "execute_result"
    }
   ],
   "source": [
    "popular_songs.head()"
   ]
  },
  {
   "cell_type": "code",
   "execution_count": 34,
   "metadata": {},
   "outputs": [],
   "source": [
    "popularity_tab = popular_songs[(popular_songs['Popularity'] > 60)].sort_values( by='Popularity', ascending=False, inplace=False)\n",
    "popularity_tab.reset_index(inplace=True)\n"
   ]
  },
  {
   "cell_type": "code",
   "execution_count": null,
   "metadata": {
    "jupyter": {
     "source_hidden": true
    }
   },
   "outputs": [],
   "source": [
    "week_song = new_df.groupby(['Song', 'Year', 'Performer','Weeks on Chart'], as_index=False).sum()\n",
    "week_song_tab =week_song.sort_values('Popularity', ascending=False, inplace=False).dropna(subset=['Weeks on Chart'])\n",
    "week_song\n",
    "\n",
    "week_song_chart = week_song.plot(kind='bar')\n",
    "week_song_chart.set_xlabel('Performer')\n",
    "week_song_chart.set_ylabel('Weeks on Chart')\n",
    "plt.show()"
   ]
  },
  {
   "cell_type": "code",
   "execution_count": null,
   "metadata": {},
   "outputs": [],
   "source": [
    "sns.set(style=\"whitegrid\")\n",
    "\n",
    "# Initialize the matplotlib figure\n",
    "f, ax = plt.subplots(figsize=(6, 15))\n",
    "\n",
    "# Load the example car crash dataset\n",
    "weeks_year = sns.load_dataset('final3').sort_values(\"Weeks on Chart\", ascending=False)"
   ]
  },
  {
   "cell_type": "code",
   "execution_count": null,
   "metadata": {},
   "outputs": [],
   "source": [
    "final = pd.DataFrame(popularity_tab, index=None)"
   ]
  },
  {
   "cell_type": "code",
   "execution_count": null,
   "metadata": {},
   "outputs": [],
   "source": []
  },
  {
   "cell_type": "code",
   "execution_count": null,
   "metadata": {},
   "outputs": [],
   "source": [
    "\n",
    "g = sns.relplot(x=\"Year\", y=\"Popularity\", kind=\"line\", data=final) \n",
    "g.fig.autofmt_xdate()"
   ]
  },
  {
   "cell_type": "code",
   "execution_count": null,
   "metadata": {},
   "outputs": [],
   "source": [
    "final2.plot(kind='area', figsize=[16,6], stacked=True, colormap='autumn')"
   ]
  },
  {
   "cell_type": "code",
   "execution_count": null,
   "metadata": {},
   "outputs": [],
   "source": [
    "week_corr = final2.corr()"
   ]
  },
  {
   "cell_type": "code",
   "execution_count": null,
   "metadata": {},
   "outputs": [],
   "source": [
    "week_corr.unstack().sort_values()"
   ]
  },
  {
   "cell_type": "code",
   "execution_count": null,
   "metadata": {},
   "outputs": [],
   "source": []
  },
  {
   "cell_type": "code",
   "execution_count": null,
   "metadata": {},
   "outputs": [],
   "source": []
  },
  {
   "cell_type": "code",
   "execution_count": null,
   "metadata": {},
   "outputs": [],
   "source": [
    "#week_tab\n",
    "week_tab = new_df.groupby(['Weeks on Chart', 'Week Position', 'Previous Week Position'] ,as_index=False).max()\n",
    "week_tab_sort = week_tab[(week_tab['Popularity'] > 60)].sort_values( by='Popularity', ascending=False, inplace=False).max"
   ]
  },
  {
   "cell_type": "code",
   "execution_count": null,
   "metadata": {},
   "outputs": [],
   "source": []
  },
  {
   "cell_type": "code",
   "execution_count": null,
   "metadata": {},
   "outputs": [],
   "source": [
    "import seaborn as sns\n",
    "import matplotlib.pyplot as plt\n",
    "sns.set(style=\"whitegrid\")\n",
    "\n",
    "# Initialize the matplotlib figure\n",
    "f, ax = plt.subplots(figsize=(6, 15))\n",
    "\n",
    "# Load the example car crash dataset\n",
    "weeks_year = sns.load_dataset('final3').sort_values(\"Weeks on Chart\", ascending=False)\n"
   ]
  },
  {
   "cell_type": "code",
   "execution_count": null,
   "metadata": {},
   "outputs": [],
   "source": [
    "sns.scatterplot(x=\"Weeks on Chart\", y=\"Year\", hue=\"Popularity\", data=final2)\n",
    "plt.show()\n",
    "\n",
    "x = final2['Year']\n",
    "y = final2['Weaks on Chart']\n",
    "z = final2['Popularity']\n",
    "z=z*z\n",
    " \n",
    "# Change color with c and alpha. I map the color to the X axis value.\n",
    "plt.scatter(x, y, s=z*2000, c=x, cmap=\"Blues\", alpha=0.4, edgecolors=\"grey\", linewidth=2)\n",
    " \n",
    "# Add titles (main and on axis)\n",
    "plt.xlabel(\"the X axis\")\n",
    "plt.ylabel(\"the Y axis\")\n",
    "plt.title(\"A colored bubble plot\")\n",
    " \n",
    "plt.show()"
   ]
  },
  {
   "cell_type": "code",
   "execution_count": null,
   "metadata": {},
   "outputs": [],
   "source": [
    "plt.figure(figsize = (15,7))\n",
    "popularity_tab['Performer', 'Song'].plot(kind = 'bar')\n",
    "plt.xlabel('Performer', fontsize = 22)\n",
    "plt.ylabel('Songs', fontsize = 20)\n",
    "plt.title('Number of top songs per Performer', fontsize = 30)"
   ]
  },
  {
   "cell_type": "code",
   "execution_count": null,
   "metadata": {},
   "outputs": [],
   "source": [
    "sns.catplot(x=\"Year\", y=\"Popularity\", jitter=False, data=tips);"
   ]
  },
  {
   "cell_type": "code",
   "execution_count": null,
   "metadata": {},
   "outputs": [],
   "source": [
    "tab_agg =  popularity_tab.agg(['mean', 'median', 'std', 'min', 'max']).reset_index()\n",
    "tab_agg"
   ]
  },
  {
   "cell_type": "code",
   "execution_count": null,
   "metadata": {},
   "outputs": [],
   "source": []
  },
  {
   "cell_type": "code",
   "execution_count": null,
   "metadata": {},
   "outputs": [],
   "source": [
    "%matplotlib inline"
   ]
  },
  {
   "cell_type": "code",
   "execution_count": null,
   "metadata": {},
   "outputs": [],
   "source": [
    "album_group = new_df.groupby(['Album', 'Performer', 'Year']).max().sort_values(by='Weeks on Chart', ascending=False)\n",
    "album_group.head(5)"
   ]
  },
  {
   "cell_type": "code",
   "execution_count": null,
   "metadata": {},
   "outputs": [],
   "source": []
  },
  {
   "cell_type": "code",
   "execution_count": null,
   "metadata": {},
   "outputs": [],
   "source": [
    "\n",
    "\n"
   ]
  },
  {
   "cell_type": "code",
   "execution_count": null,
   "metadata": {},
   "outputs": [],
   "source": []
  },
  {
   "cell_type": "code",
   "execution_count": null,
   "metadata": {},
   "outputs": [],
   "source": []
  },
  {
   "cell_type": "code",
   "execution_count": null,
   "metadata": {},
   "outputs": [],
   "source": []
  },
  {
   "cell_type": "code",
   "execution_count": null,
   "metadata": {},
   "outputs": [],
   "source": []
  },
  {
   "cell_type": "code",
   "execution_count": null,
   "metadata": {},
   "outputs": [],
   "source": []
  },
  {
   "cell_type": "code",
   "execution_count": null,
   "metadata": {},
   "outputs": [],
   "source": []
  },
  {
   "cell_type": "code",
   "execution_count": null,
   "metadata": {},
   "outputs": [],
   "source": []
  },
  {
   "cell_type": "code",
   "execution_count": null,
   "metadata": {},
   "outputs": [],
   "source": [
    "album_tab.groupby('Performer').size()"
   ]
  },
  {
   "cell_type": "code",
   "execution_count": null,
   "metadata": {},
   "outputs": [],
   "source": []
  },
  {
   "cell_type": "code",
   "execution_count": null,
   "metadata": {},
   "outputs": [],
   "source": []
  },
  {
   "cell_type": "code",
   "execution_count": null,
   "metadata": {},
   "outputs": [],
   "source": []
  },
  {
   "cell_type": "code",
   "execution_count": null,
   "metadata": {},
   "outputs": [],
   "source": [
    "performer_count = album_tab.sort_values(by='Performer')\n",
    "performer_count.head()\n",
    "file_performer = pd.DataFrame(performer_count)"
   ]
  },
  {
   "cell_type": "code",
   "execution_count": null,
   "metadata": {},
   "outputs": [],
   "source": []
  },
  {
   "cell_type": "code",
   "execution_count": null,
   "metadata": {},
   "outputs": [],
   "source": [
    "\n"
   ]
  },
  {
   "cell_type": "code",
   "execution_count": null,
   "metadata": {},
   "outputs": [],
   "source": []
  },
  {
   "cell_type": "code",
   "execution_count": null,
   "metadata": {},
   "outputs": [],
   "source": []
  },
  {
   "cell_type": "code",
   "execution_count": null,
   "metadata": {},
   "outputs": [],
   "source": []
  },
  {
   "cell_type": "code",
   "execution_count": null,
   "metadata": {},
   "outputs": [],
   "source": []
  },
  {
   "cell_type": "code",
   "execution_count": null,
   "metadata": {},
   "outputs": [],
   "source": [
    "popularity_sorted['Instance'].index"
   ]
  },
  {
   "cell_type": "code",
   "execution_count": null,
   "metadata": {},
   "outputs": [],
   "source": []
  },
  {
   "cell_type": "code",
   "execution_count": null,
   "metadata": {},
   "outputs": [],
   "source": []
  },
  {
   "cell_type": "code",
   "execution_count": null,
   "metadata": {},
   "outputs": [],
   "source": []
  },
  {
   "cell_type": "code",
   "execution_count": null,
   "metadata": {},
   "outputs": [],
   "source": []
  },
  {
   "cell_type": "code",
   "execution_count": null,
   "metadata": {},
   "outputs": [],
   "source": [
    "\n",
    "sns.set_color_codes(\"pastel\")\n",
    "sns.barplot(x=\"Week Position\", y=\"Popularity\", data=popular_songs,\n",
    "            label=\"popularity vs Weeks on Chart\", color=\"b\")\n",
    "plt.show()"
   ]
  },
  {
   "cell_type": "code",
   "execution_count": null,
   "metadata": {},
   "outputs": [],
   "source": []
  },
  {
   "cell_type": "code",
   "execution_count": null,
   "metadata": {},
   "outputs": [],
   "source": [
    "\n",
    "\n"
   ]
  },
  {
   "cell_type": "code",
   "execution_count": null,
   "metadata": {},
   "outputs": [],
   "source": [
    "\n"
   ]
  },
  {
   "cell_type": "code",
   "execution_count": null,
   "metadata": {},
   "outputs": [],
   "source": []
  },
  {
   "cell_type": "code",
   "execution_count": null,
   "metadata": {},
   "outputs": [],
   "source": []
  },
  {
   "cell_type": "code",
   "execution_count": null,
   "metadata": {},
   "outputs": [],
   "source": []
  },
  {
   "cell_type": "code",
   "execution_count": null,
   "metadata": {},
   "outputs": [],
   "source": [
    "song_group.groupby(['Popularity', 'Weeks on Chart']).mean()"
   ]
  },
  {
   "cell_type": "code",
   "execution_count": null,
   "metadata": {},
   "outputs": [],
   "source": []
  },
  {
   "cell_type": "code",
   "execution_count": null,
   "metadata": {},
   "outputs": [],
   "source": [
    "song_graph[song_graph['Performer']].groupby('Song')['Weeks on Chart'].mean()"
   ]
  },
  {
   "cell_type": "code",
   "execution_count": null,
   "metadata": {},
   "outputs": [],
   "source": [
    "sns.scatterplot(x=\"Popularity\", y=\"Weeks on Chart\", hue=\"year_by_decade\", data=song_graph)\n",
    "plt.show()"
   ]
  },
  {
   "cell_type": "code",
   "execution_count": null,
   "metadata": {},
   "outputs": [],
   "source": [
    "import seaborn as sns\n",
    "import matplotlib.pyplot as plt\n",
    "sns.set(style=\"whitegrid\")\n",
    "\n",
    "# Initialize the matplotlib figure\n",
    "f, ax = plt.subplots(figsize=(6, 15))\n",
    "\n",
    "\n",
    "# Plot the total crashes\n",
    "sns.set_color_codes(\"pastel\")\n",
    "sns.barplot(x=\"Popularity\", y=\"Week on Chart\", data=song_graph,\n",
    "            label=\"year_by_decade\", color=\"b\")\n",
    "\n",
    "# Plot the crashes where alcohol was involved\n",
    "sns.set_color_codes(\"muted\")\n",
    "sns.barplot(x=\"Popularity\", y=\"year_by_decade\", data=song_graph,\n",
    "            label=\"labels\", color=\"b\")\n",
    "\n",
    "# Add a legend and informative axis label\n",
    "ax.legend(ncol=2, loc=\"lower right\", frameon=True)\n",
    "ax.set(xlim=(0, 24), ylabel=\"\",\n",
    "       xlabel=\"\")\n",
    "sns.despine(left=True, bottom=True)"
   ]
  },
  {
   "cell_type": "code",
   "execution_count": null,
   "metadata": {},
   "outputs": [],
   "source": []
  },
  {
   "cell_type": "code",
   "execution_count": null,
   "metadata": {},
   "outputs": [],
   "source": [
    "# correlation\n"
   ]
  },
  {
   "cell_type": "code",
   "execution_count": null,
   "metadata": {},
   "outputs": [],
   "source": [
    "popularity_cor = song_graph.corr()\n",
    "\n",
    "popularity_cor .unstack().sort_values()"
   ]
  },
  {
   "cell_type": "code",
   "execution_count": null,
   "metadata": {},
   "outputs": [],
   "source": [
    "sns.lmplot(x=\"Popularity\", y=\"Peak Position\", data=song_graph);"
   ]
  },
  {
   "cell_type": "code",
   "execution_count": null,
   "metadata": {},
   "outputs": [],
   "source": []
  },
  {
   "cell_type": "code",
   "execution_count": null,
   "metadata": {},
   "outputs": [],
   "source": [
    "song_graph = popularity_tab.groupby(['Song', 'Weeks on Chart']).max()\n",
    "song_graph.sort_values('Weeks on Chart', ascending=False)\n",
    "song_graph.describe()"
   ]
  },
  {
   "cell_type": "code",
   "execution_count": null,
   "metadata": {},
   "outputs": [],
   "source": [
    "sns.pairplot(song_graph)\n",
    "sns.plt.show()"
   ]
  },
  {
   "cell_type": "code",
   "execution_count": null,
   "metadata": {},
   "outputs": [],
   "source": [
    "year = song_graph['Peak Position']\n",
    "song_popularity = song_graph['Popularity']\n",
    "plt.scatter('Peak_Position', 'Popularity')\n",
    "plt.xticks(peak position, rotation=90)\n",
    "plt.xlabel('Position')\n",
    "plt.ylabel('Popularity')\n",
    "plt.show()"
   ]
  },
  {
   "cell_type": "code",
   "execution_count": null,
   "metadata": {},
   "outputs": [],
   "source": []
  },
  {
   "cell_type": "code",
   "execution_count": null,
   "metadata": {},
   "outputs": [],
   "source": [
    "sns.boxplot(y=song_graph[\"\"])\n",
    "plt.show()"
   ]
  },
  {
   "cell_type": "code",
   "execution_count": null,
   "metadata": {},
   "outputs": [],
   "source": [
    "x_values = song_graph['Week Position']\n",
    "y_values = song_graph['Popularity']\n",
    "(slope, intercept, rvalue, pvalue, stderr) = linregress(x_values, y_values)\n",
    "regress_values = x_values * slope + intercept\n",
    "line_eq = \"y = \" + str(round(slope,2)) + \"x + \" + str(round(intercept,2))\n",
    "plt.scatter(x_values,y_values)\n",
    "plt.plot(x_values,regress_values,\"r-\")\n",
    "plt.annotate(line_eq,(0,50),fontsize=15,color=\"red\")\n",
    "plt.xlabel('week position')\n",
    "plt.ylabel('Popularity')\n",
    "print(f\"The r-squared is: {rvalue**2}\")\n",
    "plt.show()\n"
   ]
  },
  {
   "cell_type": "code",
   "execution_count": null,
   "metadata": {},
   "outputs": [],
   "source": [
    "plt.figure(figsize = (25,10));\n",
    "sns.countplot(x=\"Genre\", data=info);\n",
    "plt.ylabel('Songs Count');\n",
    "plt.xticks(rotation=45, ha='right');"
   ]
  },
  {
   "cell_type": "code",
   "execution_count": null,
   "metadata": {},
   "outputs": [],
   "source": [
    "sns.scatterplot(x=\"Popularity\", y=\"Weak Position\", hue=\"Previous Week Position\", data=song_graph)\n",
    "plt.show()"
   ]
  },
  {
   "cell_type": "code",
   "execution_count": null,
   "metadata": {},
   "outputs": [],
   "source": []
  },
  {
   "cell_type": "code",
   "execution_count": null,
   "metadata": {},
   "outputs": [],
   "source": []
  },
  {
   "cell_type": "code",
   "execution_count": null,
   "metadata": {},
   "outputs": [],
   "source": [
    "\n"
   ]
  },
  {
   "cell_type": "code",
   "execution_count": null,
   "metadata": {},
   "outputs": [],
   "source": [
    "sns.scatterplot(x=\"Popularity\", y=\"Weak Position\", hue=\"Previous Week Position\", data=song_graph)\n",
    "plt.show()"
   ]
  },
  {
   "cell_type": "code",
   "execution_count": null,
   "metadata": {},
   "outputs": [],
   "source": [
    "#x = song_graph['Popularity']\n",
    "#y = song_graph['Previous Week Position']\n",
    "#z = song_graph['Peak Position']\n",
    "z=z*z\n",
    " \n",
    "# Change color with c and alpha. I map the color to the X axis value.\n",
    "#plt.scatter(x, y, s=z*2000, c=x, cmap=\"Blues\", alpha=0.4, edgecolors=\"grey\", linewidth=2)\n",
    " \n",
    "# Add titles (main and on axis)\n",
    "#plt.xlabel(\"the X axis\")\n",
    "#plt.ylabel(\"the Y axis\")\n",
    "#plt.title(\"A colored bubble plot\")\n",
    " \n",
    "#plt.show()\n"
   ]
  },
  {
   "cell_type": "code",
   "execution_count": null,
   "metadata": {},
   "outputs": [],
   "source": []
  },
  {
   "cell_type": "code",
   "execution_count": null,
   "metadata": {},
   "outputs": [],
   "source": []
  },
  {
   "cell_type": "code",
   "execution_count": null,
   "metadata": {},
   "outputs": [],
   "source": []
  },
  {
   "cell_type": "code",
   "execution_count": null,
   "metadata": {},
   "outputs": [],
   "source": []
  },
  {
   "cell_type": "code",
   "execution_count": null,
   "metadata": {},
   "outputs": [],
   "source": []
  },
  {
   "cell_type": "code",
   "execution_count": null,
   "metadata": {},
   "outputs": [],
   "source": []
  },
  {
   "cell_type": "code",
   "execution_count": null,
   "metadata": {},
   "outputs": [],
   "source": []
  },
  {
   "cell_type": "code",
   "execution_count": null,
   "metadata": {},
   "outputs": [],
   "source": []
  },
  {
   "cell_type": "code",
   "execution_count": null,
   "metadata": {},
   "outputs": [],
   "source": []
  },
  {
   "cell_type": "code",
   "execution_count": null,
   "metadata": {},
   "outputs": [],
   "source": []
  },
  {
   "cell_type": "code",
   "execution_count": null,
   "metadata": {},
   "outputs": [],
   "source": []
  },
  {
   "cell_type": "code",
   "execution_count": null,
   "metadata": {},
   "outputs": [],
   "source": []
  },
  {
   "cell_type": "code",
   "execution_count": null,
   "metadata": {},
   "outputs": [],
   "source": []
  },
  {
   "cell_type": "code",
   "execution_count": null,
   "metadata": {},
   "outputs": [],
   "source": []
  },
  {
   "cell_type": "code",
   "execution_count": null,
   "metadata": {},
   "outputs": [],
   "source": []
  },
  {
   "cell_type": "code",
   "execution_count": null,
   "metadata": {},
   "outputs": [],
   "source": []
  },
  {
   "cell_type": "code",
   "execution_count": null,
   "metadata": {},
   "outputs": [],
   "source": []
  },
  {
   "cell_type": "code",
   "execution_count": null,
   "metadata": {},
   "outputs": [],
   "source": []
  },
  {
   "cell_type": "code",
   "execution_count": null,
   "metadata": {},
   "outputs": [],
   "source": []
  },
  {
   "cell_type": "code",
   "execution_count": null,
   "metadata": {},
   "outputs": [],
   "source": []
  },
  {
   "cell_type": "code",
   "execution_count": null,
   "metadata": {},
   "outputs": [],
   "source": []
  },
  {
   "cell_type": "code",
   "execution_count": null,
   "metadata": {},
   "outputs": [],
   "source": []
  },
  {
   "cell_type": "code",
   "execution_count": null,
   "metadata": {},
   "outputs": [],
   "source": []
  },
  {
   "cell_type": "code",
   "execution_count": null,
   "metadata": {},
   "outputs": [],
   "source": []
  },
  {
   "cell_type": "code",
   "execution_count": null,
   "metadata": {},
   "outputs": [],
   "source": []
  },
  {
   "cell_type": "code",
   "execution_count": null,
   "metadata": {},
   "outputs": [],
   "source": []
  },
  {
   "cell_type": "code",
   "execution_count": null,
   "metadata": {},
   "outputs": [],
   "source": []
  },
  {
   "cell_type": "code",
   "execution_count": null,
   "metadata": {},
   "outputs": [],
   "source": []
  },
  {
   "cell_type": "code",
   "execution_count": null,
   "metadata": {},
   "outputs": [],
   "source": []
  },
  {
   "cell_type": "code",
   "execution_count": null,
   "metadata": {},
   "outputs": [],
   "source": []
  },
  {
   "cell_type": "code",
   "execution_count": 502,
   "metadata": {},
   "outputs": [],
   "source": [
    "#"
   ]
  },
  {
   "cell_type": "code",
   "execution_count": null,
   "metadata": {},
   "outputs": [],
   "source": []
  },
  {
   "cell_type": "code",
   "execution_count": null,
   "metadata": {},
   "outputs": [],
   "source": [
    "\n"
   ]
  },
  {
   "cell_type": "code",
   "execution_count": 367,
   "metadata": {},
   "outputs": [],
   "source": [
    "#sns.boxplot( y = popularity_tab[\"Genre\"])\n",
    "#plt.show()"
   ]
  },
  {
   "cell_type": "code",
   "execution_count": null,
   "metadata": {},
   "outputs": [],
   "source": [
    "\n"
   ]
  },
  {
   "cell_type": "code",
   "execution_count": null,
   "metadata": {},
   "outputs": [],
   "source": []
  },
  {
   "cell_type": "code",
   "execution_count": null,
   "metadata": {},
   "outputs": [],
   "source": []
  },
  {
   "cell_type": "code",
   "execution_count": null,
   "metadata": {},
   "outputs": [],
   "source": []
  },
  {
   "cell_type": "code",
   "execution_count": 193,
   "metadata": {},
   "outputs": [],
   "source": []
  },
  {
   "cell_type": "code",
   "execution_count": null,
   "metadata": {},
   "outputs": [],
   "source": []
  },
  {
   "cell_type": "code",
   "execution_count": null,
   "metadata": {},
   "outputs": [],
   "source": []
  },
  {
   "cell_type": "code",
   "execution_count": null,
   "metadata": {},
   "outputs": [],
   "source": []
  },
  {
   "cell_type": "code",
   "execution_count": null,
   "metadata": {},
   "outputs": [],
   "source": []
  },
  {
   "cell_type": "code",
   "execution_count": null,
   "metadata": {},
   "outputs": [],
   "source": []
  },
  {
   "cell_type": "code",
   "execution_count": null,
   "metadata": {},
   "outputs": [],
   "source": []
  },
  {
   "cell_type": "code",
   "execution_count": null,
   "metadata": {},
   "outputs": [],
   "source": []
  },
  {
   "cell_type": "code",
   "execution_count": null,
   "metadata": {},
   "outputs": [],
   "source": []
  },
  {
   "cell_type": "raw",
   "metadata": {},
   "source": []
  },
  {
   "cell_type": "code",
   "execution_count": null,
   "metadata": {},
   "outputs": [],
   "source": []
  },
  {
   "cell_type": "code",
   "execution_count": null,
   "metadata": {},
   "outputs": [],
   "source": []
  },
  {
   "cell_type": "code",
   "execution_count": null,
   "metadata": {},
   "outputs": [],
   "source": []
  },
  {
   "cell_type": "code",
   "execution_count": null,
   "metadata": {},
   "outputs": [],
   "source": []
  },
  {
   "cell_type": "code",
   "execution_count": null,
   "metadata": {},
   "outputs": [],
   "source": []
  },
  {
   "cell_type": "code",
   "execution_count": null,
   "metadata": {},
   "outputs": [],
   "source": []
  },
  {
   "cell_type": "code",
   "execution_count": null,
   "metadata": {},
   "outputs": [],
   "source": []
  },
  {
   "cell_type": "code",
   "execution_count": null,
   "metadata": {},
   "outputs": [],
   "source": []
  },
  {
   "cell_type": "code",
   "execution_count": null,
   "metadata": {},
   "outputs": [],
   "source": []
  },
  {
   "cell_type": "code",
   "execution_count": null,
   "metadata": {},
   "outputs": [],
   "source": []
  },
  {
   "cell_type": "code",
   "execution_count": null,
   "metadata": {},
   "outputs": [],
   "source": []
  },
  {
   "cell_type": "code",
   "execution_count": null,
   "metadata": {},
   "outputs": [],
   "source": []
  },
  {
   "cell_type": "code",
   "execution_count": null,
   "metadata": {},
   "outputs": [],
   "source": []
  },
  {
   "cell_type": "code",
   "execution_count": null,
   "metadata": {},
   "outputs": [],
   "source": [
    "\n"
   ]
  },
  {
   "cell_type": "code",
   "execution_count": null,
   "metadata": {},
   "outputs": [],
   "source": []
  },
  {
   "cell_type": "code",
   "execution_count": null,
   "metadata": {},
   "outputs": [],
   "source": []
  },
  {
   "cell_type": "code",
   "execution_count": null,
   "metadata": {},
   "outputs": [],
   "source": []
  },
  {
   "cell_type": "code",
   "execution_count": null,
   "metadata": {},
   "outputs": [],
   "source": []
  },
  {
   "cell_type": "code",
   "execution_count": null,
   "metadata": {},
   "outputs": [],
   "source": []
  },
  {
   "cell_type": "code",
   "execution_count": null,
   "metadata": {},
   "outputs": [],
   "source": []
  },
  {
   "cell_type": "code",
   "execution_count": null,
   "metadata": {},
   "outputs": [],
   "source": []
  },
  {
   "cell_type": "code",
   "execution_count": null,
   "metadata": {},
   "outputs": [],
   "source": []
  },
  {
   "cell_type": "code",
   "execution_count": null,
   "metadata": {},
   "outputs": [],
   "source": []
  },
  {
   "cell_type": "code",
   "execution_count": null,
   "metadata": {},
   "outputs": [],
   "source": []
  }
 ],
 "metadata": {
  "kernelspec": {
   "display_name": "Python 3",
   "language": "python",
   "name": "python3"
  },
  "language_info": {
   "codemirror_mode": {
    "name": "ipython",
    "version": 3
   },
   "file_extension": ".py",
   "mimetype": "text/x-python",
   "name": "python",
   "nbconvert_exporter": "python",
   "pygments_lexer": "ipython3",
   "version": "3.7.7"
  }
 },
 "nbformat": 4,
 "nbformat_minor": 4
}
