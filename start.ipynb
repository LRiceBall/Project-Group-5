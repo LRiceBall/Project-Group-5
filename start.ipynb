{
 "cells": [
  {
   "cell_type": "code",
   "execution_count": 35,
   "metadata": {},
   "outputs": [],
   "source": [
    "import pandas as pd\n",
    "\n",
    "file1 = \"Resources/Hot 100 Audio Features.csv\"\n",
    "file2 = \"Resources/Hot Stuff.csv\"\n",
    "\n",
    "audio_features = pd.read_csv(file1)\n",
    "hot100 = pd.read_csv(file2)\n",
    "\n",
    "merge_df = pd.merge(audio_features, hot100, on=[\"Song\", \"Performer\", \"SongID\"], how=\"outer\")\n",
    "\n",
    "merge_df = merge_df.drop([\"SongID\", \"spotify_track_id\", \"spotify_track_preview_url\",\n",
    "                         \"spotify_track_album\", \"spotify_track_explicit\", \"time_signature\",\n",
    "                        \"url\", \"key\", \"mode\", \"acousticness\", \"liveness\", \"valence\"], axis=1)\n",
    "merge_df = merge_df."
   ]
  },
  {
   "cell_type": "code",
   "execution_count": 34,
   "metadata": {},
   "outputs": [
    {
     "data": {
      "text/plain": [
       "['dance pop', 'pop']    4\n",
       "['pop reggaeton']       1\n",
       "Name: spotify_genre, dtype: int64"
      ]
     },
     "execution_count": 34,
     "metadata": {},
     "output_type": "execute_result"
    }
   ],
   "source": [
    "merge_df[\"spotify_genre\"].value_counts()\n"
   ]
  },
  {
   "cell_type": "code",
   "execution_count": null,
   "metadata": {},
   "outputs": [],
   "source": []
  }
 ],
 "metadata": {
  "kernelspec": {
   "display_name": "Python 3",
   "language": "python",
   "name": "python3"
  },
  "language_info": {
   "codemirror_mode": {
    "name": "ipython",
    "version": 3
   },
   "file_extension": ".py",
   "mimetype": "text/x-python",
   "name": "python",
   "nbconvert_exporter": "python",
   "pygments_lexer": "ipython3",
   "version": "3.7.6"
  }
 },
 "nbformat": 4,
 "nbformat_minor": 4
}
