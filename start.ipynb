{
 "cells": [
  {
   "cell_type": "code",
   "execution_count": 2,
   "metadata": {},
   "outputs": [
    {
     "data": {
      "text/html": [
       "<div>\n",
       "<style scoped>\n",
       "    .dataframe tbody tr th:only-of-type {\n",
       "        vertical-align: middle;\n",
       "    }\n",
       "\n",
       "    .dataframe tbody tr th {\n",
       "        vertical-align: top;\n",
       "    }\n",
       "\n",
       "    .dataframe thead th {\n",
       "        text-align: right;\n",
       "    }\n",
       "</style>\n",
       "<table border=\"1\" class=\"dataframe\">\n",
       "  <thead>\n",
       "    <tr style=\"text-align: right;\">\n",
       "      <th></th>\n",
       "      <th>Song</th>\n",
       "      <th>spotify_track_duration_ms</th>\n",
       "      <th>spotify_track_popularity</th>\n",
       "      <th>danceability</th>\n",
       "      <th>energy</th>\n",
       "      <th>loudness</th>\n",
       "      <th>speechiness</th>\n",
       "      <th>instrumentalness</th>\n",
       "      <th>tempo</th>\n",
       "      <th>WeekID</th>\n",
       "      <th>Week Position</th>\n",
       "      <th>Instance</th>\n",
       "      <th>Previous Week Position</th>\n",
       "      <th>Peak Position</th>\n",
       "      <th>Weeks on Chart</th>\n",
       "    </tr>\n",
       "    <tr>\n",
       "      <th>Performer</th>\n",
       "      <th></th>\n",
       "      <th></th>\n",
       "      <th></th>\n",
       "      <th></th>\n",
       "      <th></th>\n",
       "      <th></th>\n",
       "      <th></th>\n",
       "      <th></th>\n",
       "      <th></th>\n",
       "      <th></th>\n",
       "      <th></th>\n",
       "      <th></th>\n",
       "      <th></th>\n",
       "      <th></th>\n",
       "      <th></th>\n",
       "    </tr>\n",
       "  </thead>\n",
       "  <tbody>\n",
       "    <tr>\n",
       "      <th>Tainy, Anuel AA &amp; Ozuna</th>\n",
       "      <td>Adicto</td>\n",
       "      <td>270740.0</td>\n",
       "      <td>91.0</td>\n",
       "      <td>0.734</td>\n",
       "      <td>0.836</td>\n",
       "      <td>-4.803</td>\n",
       "      <td>0.0735</td>\n",
       "      <td>0.000016</td>\n",
       "      <td>80.002</td>\n",
       "      <td>10/5/2019</td>\n",
       "      <td>86.0</td>\n",
       "      <td>1.0</td>\n",
       "      <td>NaN</td>\n",
       "      <td>86.0</td>\n",
       "      <td>1.0</td>\n",
       "    </tr>\n",
       "    <tr>\n",
       "      <th>Tainy, Anuel AA &amp; Ozuna</th>\n",
       "      <td>Adicto</td>\n",
       "      <td>270740.0</td>\n",
       "      <td>91.0</td>\n",
       "      <td>0.734</td>\n",
       "      <td>0.836</td>\n",
       "      <td>-4.803</td>\n",
       "      <td>0.0735</td>\n",
       "      <td>0.000016</td>\n",
       "      <td>80.002</td>\n",
       "      <td>10/12/2019</td>\n",
       "      <td>98.0</td>\n",
       "      <td>1.0</td>\n",
       "      <td>86.0</td>\n",
       "      <td>86.0</td>\n",
       "      <td>2.0</td>\n",
       "    </tr>\n",
       "    <tr>\n",
       "      <th>Justin Moore</th>\n",
       "      <td>The Ones That Didn't Make It Back Home</td>\n",
       "      <td>NaN</td>\n",
       "      <td>NaN</td>\n",
       "      <td>NaN</td>\n",
       "      <td>NaN</td>\n",
       "      <td>NaN</td>\n",
       "      <td>NaN</td>\n",
       "      <td>NaN</td>\n",
       "      <td>NaN</td>\n",
       "      <td>6/29/2019</td>\n",
       "      <td>100.0</td>\n",
       "      <td>1.0</td>\n",
       "      <td>NaN</td>\n",
       "      <td>100.0</td>\n",
       "      <td>1.0</td>\n",
       "    </tr>\n",
       "    <tr>\n",
       "      <th>Justin Moore</th>\n",
       "      <td>The Ones That Didn't Make It Back Home</td>\n",
       "      <td>NaN</td>\n",
       "      <td>NaN</td>\n",
       "      <td>NaN</td>\n",
       "      <td>NaN</td>\n",
       "      <td>NaN</td>\n",
       "      <td>NaN</td>\n",
       "      <td>NaN</td>\n",
       "      <td>NaN</td>\n",
       "      <td>7/6/2019</td>\n",
       "      <td>93.0</td>\n",
       "      <td>1.0</td>\n",
       "      <td>100.0</td>\n",
       "      <td>93.0</td>\n",
       "      <td>2.0</td>\n",
       "    </tr>\n",
       "    <tr>\n",
       "      <th>Justin Moore</th>\n",
       "      <td>The Ones That Didn't Make It Back Home</td>\n",
       "      <td>NaN</td>\n",
       "      <td>NaN</td>\n",
       "      <td>NaN</td>\n",
       "      <td>NaN</td>\n",
       "      <td>NaN</td>\n",
       "      <td>NaN</td>\n",
       "      <td>NaN</td>\n",
       "      <td>NaN</td>\n",
       "      <td>7/13/2019</td>\n",
       "      <td>95.0</td>\n",
       "      <td>1.0</td>\n",
       "      <td>93.0</td>\n",
       "      <td>93.0</td>\n",
       "      <td>3.0</td>\n",
       "    </tr>\n",
       "  </tbody>\n",
       "</table>\n",
       "</div>"
      ],
      "text/plain": [
       "                                                           Song  \\\n",
       "Performer                                                         \n",
       "Tainy, Anuel AA & Ozuna                                  Adicto   \n",
       "Tainy, Anuel AA & Ozuna                                  Adicto   \n",
       "Justin Moore             The Ones That Didn't Make It Back Home   \n",
       "Justin Moore             The Ones That Didn't Make It Back Home   \n",
       "Justin Moore             The Ones That Didn't Make It Back Home   \n",
       "\n",
       "                         spotify_track_duration_ms  spotify_track_popularity  \\\n",
       "Performer                                                                      \n",
       "Tainy, Anuel AA & Ozuna                   270740.0                      91.0   \n",
       "Tainy, Anuel AA & Ozuna                   270740.0                      91.0   \n",
       "Justin Moore                                   NaN                       NaN   \n",
       "Justin Moore                                   NaN                       NaN   \n",
       "Justin Moore                                   NaN                       NaN   \n",
       "\n",
       "                         danceability  energy  loudness  speechiness  \\\n",
       "Performer                                                              \n",
       "Tainy, Anuel AA & Ozuna         0.734   0.836    -4.803       0.0735   \n",
       "Tainy, Anuel AA & Ozuna         0.734   0.836    -4.803       0.0735   \n",
       "Justin Moore                      NaN     NaN       NaN          NaN   \n",
       "Justin Moore                      NaN     NaN       NaN          NaN   \n",
       "Justin Moore                      NaN     NaN       NaN          NaN   \n",
       "\n",
       "                         instrumentalness   tempo      WeekID  Week Position  \\\n",
       "Performer                                                                      \n",
       "Tainy, Anuel AA & Ozuna          0.000016  80.002   10/5/2019           86.0   \n",
       "Tainy, Anuel AA & Ozuna          0.000016  80.002  10/12/2019           98.0   \n",
       "Justin Moore                          NaN     NaN   6/29/2019          100.0   \n",
       "Justin Moore                          NaN     NaN    7/6/2019           93.0   \n",
       "Justin Moore                          NaN     NaN   7/13/2019           95.0   \n",
       "\n",
       "                         Instance  Previous Week Position  Peak Position  \\\n",
       "Performer                                                                  \n",
       "Tainy, Anuel AA & Ozuna       1.0                     NaN           86.0   \n",
       "Tainy, Anuel AA & Ozuna       1.0                    86.0           86.0   \n",
       "Justin Moore                  1.0                     NaN          100.0   \n",
       "Justin Moore                  1.0                   100.0           93.0   \n",
       "Justin Moore                  1.0                    93.0           93.0   \n",
       "\n",
       "                         Weeks on Chart  \n",
       "Performer                                \n",
       "Tainy, Anuel AA & Ozuna             1.0  \n",
       "Tainy, Anuel AA & Ozuna             2.0  \n",
       "Justin Moore                        1.0  \n",
       "Justin Moore                        2.0  \n",
       "Justin Moore                        3.0  "
      ]
     },
     "execution_count": 2,
     "metadata": {},
     "output_type": "execute_result"
    }
   ],
   "source": [
    "import pandas as pd\n",
    "import numpy as np\n",
    "import matplotlib.pyplot as plt\n",
    "\n",
    "file1 = \"Resources/Hot 100 Audio Features.csv\"\n",
    "file2 = \"Resources/Hot Stuff.csv\"\n",
    "\n",
    "audio_features = pd.read_csv(file1)\n",
    "hot100 = pd.read_csv(file2)\n",
    "\n",
    "merge_df = pd.merge(audio_features, hot100, on=[\"Song\", \"Performer\", \"SongID\"], how=\"outer\")\n",
    "\n",
    "merge_df = merge_df.drop([\"SongID\", \"spotify_track_id\", \"spotify_track_preview_url\",\n",
    "                         \"spotify_track_album\", \"spotify_track_explicit\", \"time_signature\",\n",
    "                        \"url\", \"key\", \"mode\", \"acousticness\", \"liveness\", \"valence\", \"spotify_genre\"], axis=1)\n",
    "#merge_df = merge_df.fillna(0)\n",
    "merge_df.head()\n",
    "\n",
    "new_df = merge_df.set_index([\"Performer\"])\n",
    "new_df.reset_index()\n",
    "new_df.head()"
   ]
  },
  {
   "cell_type": "code",
   "execution_count": 3,
   "metadata": {},
   "outputs": [],
   "source": [
    "#merge_df[\"spotify_genre\"].value_counts()\n",
    "#new_df = merge_df[[\"Performer\", \"Song\", \"spotify_genre\"]]\n",
    "\n",
    "#new_df = new_df.set_index([\"Performer\", \"Song\"])\n",
    "#newnew_df = new_df[\"spotify_genre\"].str.split(pat=\",\", expand=True)\n",
    "#newnew_df.reset_index().head()"
   ]
  },
  {
   "cell_type": "code",
   "execution_count": 4,
   "metadata": {},
   "outputs": [
    {
     "data": {
      "text/html": [
       "<div>\n",
       "<style scoped>\n",
       "    .dataframe tbody tr th:only-of-type {\n",
       "        vertical-align: middle;\n",
       "    }\n",
       "\n",
       "    .dataframe tbody tr th {\n",
       "        vertical-align: top;\n",
       "    }\n",
       "\n",
       "    .dataframe thead th {\n",
       "        text-align: right;\n",
       "    }\n",
       "</style>\n",
       "<table border=\"1\" class=\"dataframe\">\n",
       "  <thead>\n",
       "    <tr style=\"text-align: right;\">\n",
       "      <th></th>\n",
       "      <th>Song</th>\n",
       "      <th>spotify_track_duration_ms</th>\n",
       "      <th>tempo</th>\n",
       "      <th>WeekID</th>\n",
       "      <th>Week Position</th>\n",
       "      <th>Peak Position</th>\n",
       "      <th>Weeks on Chart</th>\n",
       "    </tr>\n",
       "    <tr>\n",
       "      <th>Performer</th>\n",
       "      <th></th>\n",
       "      <th></th>\n",
       "      <th></th>\n",
       "      <th></th>\n",
       "      <th></th>\n",
       "      <th></th>\n",
       "      <th></th>\n",
       "    </tr>\n",
       "  </thead>\n",
       "  <tbody>\n",
       "    <tr>\n",
       "      <th>Tainy, Anuel AA &amp; Ozuna</th>\n",
       "      <td>Adicto</td>\n",
       "      <td>270740.0</td>\n",
       "      <td>80.002</td>\n",
       "      <td>10/5/2019</td>\n",
       "      <td>86.0</td>\n",
       "      <td>86.0</td>\n",
       "      <td>1.0</td>\n",
       "    </tr>\n",
       "    <tr>\n",
       "      <th>Tainy, Anuel AA &amp; Ozuna</th>\n",
       "      <td>Adicto</td>\n",
       "      <td>270740.0</td>\n",
       "      <td>80.002</td>\n",
       "      <td>10/12/2019</td>\n",
       "      <td>98.0</td>\n",
       "      <td>86.0</td>\n",
       "      <td>2.0</td>\n",
       "    </tr>\n",
       "    <tr>\n",
       "      <th>Lady Gaga &amp; Bradley Cooper</th>\n",
       "      <td>Shallow</td>\n",
       "      <td>215733.0</td>\n",
       "      <td>95.799</td>\n",
       "      <td>10/13/2018</td>\n",
       "      <td>28.0</td>\n",
       "      <td>28.0</td>\n",
       "      <td>1.0</td>\n",
       "    </tr>\n",
       "    <tr>\n",
       "      <th>Lady Gaga &amp; Bradley Cooper</th>\n",
       "      <td>Shallow</td>\n",
       "      <td>215733.0</td>\n",
       "      <td>95.799</td>\n",
       "      <td>12/1/2018</td>\n",
       "      <td>23.0</td>\n",
       "      <td>5.0</td>\n",
       "      <td>8.0</td>\n",
       "    </tr>\n",
       "    <tr>\n",
       "      <th>Lady Gaga &amp; Bradley Cooper</th>\n",
       "      <td>Shallow</td>\n",
       "      <td>215733.0</td>\n",
       "      <td>95.799</td>\n",
       "      <td>2/2/2019</td>\n",
       "      <td>24.0</td>\n",
       "      <td>5.0</td>\n",
       "      <td>17.0</td>\n",
       "    </tr>\n",
       "    <tr>\n",
       "      <th>...</th>\n",
       "      <td>...</td>\n",
       "      <td>...</td>\n",
       "      <td>...</td>\n",
       "      <td>...</td>\n",
       "      <td>...</td>\n",
       "      <td>...</td>\n",
       "      <td>...</td>\n",
       "    </tr>\n",
       "    <tr>\n",
       "      <th>Solomon Burke</th>\n",
       "      <td>Tonight's The Night</td>\n",
       "      <td>161186.0</td>\n",
       "      <td>173.305</td>\n",
       "      <td>7/3/1965</td>\n",
       "      <td>32.0</td>\n",
       "      <td>32.0</td>\n",
       "      <td>6.0</td>\n",
       "    </tr>\n",
       "    <tr>\n",
       "      <th>Solomon Burke</th>\n",
       "      <td>Tonight's The Night</td>\n",
       "      <td>161186.0</td>\n",
       "      <td>173.305</td>\n",
       "      <td>7/10/1965</td>\n",
       "      <td>29.0</td>\n",
       "      <td>29.0</td>\n",
       "      <td>7.0</td>\n",
       "    </tr>\n",
       "    <tr>\n",
       "      <th>Solomon Burke</th>\n",
       "      <td>Tonight's The Night</td>\n",
       "      <td>161186.0</td>\n",
       "      <td>173.305</td>\n",
       "      <td>7/17/1965</td>\n",
       "      <td>28.0</td>\n",
       "      <td>28.0</td>\n",
       "      <td>8.0</td>\n",
       "    </tr>\n",
       "    <tr>\n",
       "      <th>Solomon Burke</th>\n",
       "      <td>Tonight's The Night</td>\n",
       "      <td>161186.0</td>\n",
       "      <td>173.305</td>\n",
       "      <td>7/24/1965</td>\n",
       "      <td>32.0</td>\n",
       "      <td>28.0</td>\n",
       "      <td>9.0</td>\n",
       "    </tr>\n",
       "    <tr>\n",
       "      <th>Solomon Burke</th>\n",
       "      <td>Tonight's The Night</td>\n",
       "      <td>161186.0</td>\n",
       "      <td>173.305</td>\n",
       "      <td>7/31/1965</td>\n",
       "      <td>37.0</td>\n",
       "      <td>28.0</td>\n",
       "      <td>10.0</td>\n",
       "    </tr>\n",
       "  </tbody>\n",
       "</table>\n",
       "<p>280039 rows × 7 columns</p>\n",
       "</div>"
      ],
      "text/plain": [
       "                                           Song  spotify_track_duration_ms  \\\n",
       "Performer                                                                    \n",
       "Tainy, Anuel AA & Ozuna                  Adicto                   270740.0   \n",
       "Tainy, Anuel AA & Ozuna                  Adicto                   270740.0   \n",
       "Lady Gaga & Bradley Cooper              Shallow                   215733.0   \n",
       "Lady Gaga & Bradley Cooper              Shallow                   215733.0   \n",
       "Lady Gaga & Bradley Cooper              Shallow                   215733.0   \n",
       "...                                         ...                        ...   \n",
       "Solomon Burke               Tonight's The Night                   161186.0   \n",
       "Solomon Burke               Tonight's The Night                   161186.0   \n",
       "Solomon Burke               Tonight's The Night                   161186.0   \n",
       "Solomon Burke               Tonight's The Night                   161186.0   \n",
       "Solomon Burke               Tonight's The Night                   161186.0   \n",
       "\n",
       "                              tempo      WeekID  Week Position  Peak Position  \\\n",
       "Performer                                                                       \n",
       "Tainy, Anuel AA & Ozuna      80.002   10/5/2019           86.0           86.0   \n",
       "Tainy, Anuel AA & Ozuna      80.002  10/12/2019           98.0           86.0   \n",
       "Lady Gaga & Bradley Cooper   95.799  10/13/2018           28.0           28.0   \n",
       "Lady Gaga & Bradley Cooper   95.799   12/1/2018           23.0            5.0   \n",
       "Lady Gaga & Bradley Cooper   95.799    2/2/2019           24.0            5.0   \n",
       "...                             ...         ...            ...            ...   \n",
       "Solomon Burke               173.305    7/3/1965           32.0           32.0   \n",
       "Solomon Burke               173.305   7/10/1965           29.0           29.0   \n",
       "Solomon Burke               173.305   7/17/1965           28.0           28.0   \n",
       "Solomon Burke               173.305   7/24/1965           32.0           28.0   \n",
       "Solomon Burke               173.305   7/31/1965           37.0           28.0   \n",
       "\n",
       "                            Weeks on Chart  \n",
       "Performer                                   \n",
       "Tainy, Anuel AA & Ozuna                1.0  \n",
       "Tainy, Anuel AA & Ozuna                2.0  \n",
       "Lady Gaga & Bradley Cooper             1.0  \n",
       "Lady Gaga & Bradley Cooper             8.0  \n",
       "Lady Gaga & Bradley Cooper            17.0  \n",
       "...                                    ...  \n",
       "Solomon Burke                          6.0  \n",
       "Solomon Burke                          7.0  \n",
       "Solomon Burke                          8.0  \n",
       "Solomon Burke                          9.0  \n",
       "Solomon Burke                         10.0  \n",
       "\n",
       "[280039 rows x 7 columns]"
      ]
     },
     "execution_count": 4,
     "metadata": {},
     "output_type": "execute_result"
    }
   ],
   "source": [
    "new_df = new_df[[\"Song\", \"spotify_track_duration_ms\", \"tempo\", \n",
    "                 \"WeekID\", \"Week Position\", \"Peak Position\", \"Weeks on Chart\"]]\n",
    "new_df = new_df.dropna(how=\"any\")\n",
    "new_df"
   ]
  },
  {
   "cell_type": "code",
   "execution_count": 5,
   "metadata": {},
   "outputs": [
    {
     "data": {
      "text/html": [
       "<div>\n",
       "<style scoped>\n",
       "    .dataframe tbody tr th:only-of-type {\n",
       "        vertical-align: middle;\n",
       "    }\n",
       "\n",
       "    .dataframe tbody tr th {\n",
       "        vertical-align: top;\n",
       "    }\n",
       "\n",
       "    .dataframe thead th {\n",
       "        text-align: right;\n",
       "    }\n",
       "</style>\n",
       "<table border=\"1\" class=\"dataframe\">\n",
       "  <thead>\n",
       "    <tr style=\"text-align: right;\">\n",
       "      <th></th>\n",
       "      <th>Song</th>\n",
       "      <th>Length</th>\n",
       "      <th>Tempo</th>\n",
       "      <th>Date</th>\n",
       "      <th>Week Position</th>\n",
       "      <th>Peak Position</th>\n",
       "      <th>Weeks on Chart</th>\n",
       "    </tr>\n",
       "    <tr>\n",
       "      <th>Performer</th>\n",
       "      <th></th>\n",
       "      <th></th>\n",
       "      <th></th>\n",
       "      <th></th>\n",
       "      <th></th>\n",
       "      <th></th>\n",
       "      <th></th>\n",
       "    </tr>\n",
       "  </thead>\n",
       "  <tbody>\n",
       "    <tr>\n",
       "      <th>Tainy, Anuel AA &amp; Ozuna</th>\n",
       "      <td>Adicto</td>\n",
       "      <td>270740.0</td>\n",
       "      <td>80.002</td>\n",
       "      <td>10/5/2019</td>\n",
       "      <td>86.0</td>\n",
       "      <td>86.0</td>\n",
       "      <td>1.0</td>\n",
       "    </tr>\n",
       "    <tr>\n",
       "      <th>Tainy, Anuel AA &amp; Ozuna</th>\n",
       "      <td>Adicto</td>\n",
       "      <td>270740.0</td>\n",
       "      <td>80.002</td>\n",
       "      <td>10/12/2019</td>\n",
       "      <td>98.0</td>\n",
       "      <td>86.0</td>\n",
       "      <td>2.0</td>\n",
       "    </tr>\n",
       "    <tr>\n",
       "      <th>Lady Gaga &amp; Bradley Cooper</th>\n",
       "      <td>Shallow</td>\n",
       "      <td>215733.0</td>\n",
       "      <td>95.799</td>\n",
       "      <td>10/13/2018</td>\n",
       "      <td>28.0</td>\n",
       "      <td>28.0</td>\n",
       "      <td>1.0</td>\n",
       "    </tr>\n",
       "    <tr>\n",
       "      <th>Lady Gaga &amp; Bradley Cooper</th>\n",
       "      <td>Shallow</td>\n",
       "      <td>215733.0</td>\n",
       "      <td>95.799</td>\n",
       "      <td>12/1/2018</td>\n",
       "      <td>23.0</td>\n",
       "      <td>5.0</td>\n",
       "      <td>8.0</td>\n",
       "    </tr>\n",
       "    <tr>\n",
       "      <th>Lady Gaga &amp; Bradley Cooper</th>\n",
       "      <td>Shallow</td>\n",
       "      <td>215733.0</td>\n",
       "      <td>95.799</td>\n",
       "      <td>2/2/2019</td>\n",
       "      <td>24.0</td>\n",
       "      <td>5.0</td>\n",
       "      <td>17.0</td>\n",
       "    </tr>\n",
       "  </tbody>\n",
       "</table>\n",
       "</div>"
      ],
      "text/plain": [
       "                               Song    Length   Tempo        Date  \\\n",
       "Performer                                                           \n",
       "Tainy, Anuel AA & Ozuna      Adicto  270740.0  80.002   10/5/2019   \n",
       "Tainy, Anuel AA & Ozuna      Adicto  270740.0  80.002  10/12/2019   \n",
       "Lady Gaga & Bradley Cooper  Shallow  215733.0  95.799  10/13/2018   \n",
       "Lady Gaga & Bradley Cooper  Shallow  215733.0  95.799   12/1/2018   \n",
       "Lady Gaga & Bradley Cooper  Shallow  215733.0  95.799    2/2/2019   \n",
       "\n",
       "                            Week Position  Peak Position  Weeks on Chart  \n",
       "Performer                                                                 \n",
       "Tainy, Anuel AA & Ozuna              86.0           86.0             1.0  \n",
       "Tainy, Anuel AA & Ozuna              98.0           86.0             2.0  \n",
       "Lady Gaga & Bradley Cooper           28.0           28.0             1.0  \n",
       "Lady Gaga & Bradley Cooper           23.0            5.0             8.0  \n",
       "Lady Gaga & Bradley Cooper           24.0            5.0            17.0  "
      ]
     },
     "execution_count": 5,
     "metadata": {},
     "output_type": "execute_result"
    }
   ],
   "source": [
    "new_df = new_df.rename(columns= {\"spotify_track_duration_ms\": \"Length\", \"WeekID\": \"Date\", \"tempo\": \"Tempo\"})\n",
    "new_df.head()"
   ]
  },
  {
   "cell_type": "code",
   "execution_count": 6,
   "metadata": {},
   "outputs": [
    {
     "data": {
      "text/plain": [
       "Song               object\n",
       "Length            float64\n",
       "Tempo             float64\n",
       "Date               object\n",
       "Week Position     float64\n",
       "Peak Position     float64\n",
       "Weeks on Chart    float64\n",
       "dtype: object"
      ]
     },
     "execution_count": 6,
     "metadata": {},
     "output_type": "execute_result"
    }
   ],
   "source": [
    "new_df.dtypes\n",
    "#data types are appropriate (thank God)"
   ]
  },
  {
   "cell_type": "code",
   "execution_count": 7,
   "metadata": {},
   "outputs": [
    {
     "data": {
      "text/html": [
       "<div>\n",
       "<style scoped>\n",
       "    .dataframe tbody tr th:only-of-type {\n",
       "        vertical-align: middle;\n",
       "    }\n",
       "\n",
       "    .dataframe tbody tr th {\n",
       "        vertical-align: top;\n",
       "    }\n",
       "\n",
       "    .dataframe thead th {\n",
       "        text-align: right;\n",
       "    }\n",
       "</style>\n",
       "<table border=\"1\" class=\"dataframe\">\n",
       "  <thead>\n",
       "    <tr style=\"text-align: right;\">\n",
       "      <th></th>\n",
       "      <th>Length</th>\n",
       "      <th>Tempo</th>\n",
       "      <th>Week Position</th>\n",
       "      <th>Peak Position</th>\n",
       "      <th>Weeks on Chart</th>\n",
       "    </tr>\n",
       "  </thead>\n",
       "  <tbody>\n",
       "    <tr>\n",
       "      <th>count</th>\n",
       "      <td>2.800390e+05</td>\n",
       "      <td>280039.000000</td>\n",
       "      <td>280039.000000</td>\n",
       "      <td>280039.000000</td>\n",
       "      <td>280039.000000</td>\n",
       "    </tr>\n",
       "    <tr>\n",
       "      <th>mean</th>\n",
       "      <td>2.292466e+05</td>\n",
       "      <td>120.031451</td>\n",
       "      <td>49.559797</td>\n",
       "      <td>40.343195</td>\n",
       "      <td>9.364606</td>\n",
       "    </tr>\n",
       "    <tr>\n",
       "      <th>std</th>\n",
       "      <td>6.507021e+04</td>\n",
       "      <td>27.766977</td>\n",
       "      <td>28.767562</td>\n",
       "      <td>29.215515</td>\n",
       "      <td>7.625508</td>\n",
       "    </tr>\n",
       "    <tr>\n",
       "      <th>min</th>\n",
       "      <td>2.968800e+04</td>\n",
       "      <td>0.000000</td>\n",
       "      <td>1.000000</td>\n",
       "      <td>1.000000</td>\n",
       "      <td>1.000000</td>\n",
       "    </tr>\n",
       "    <tr>\n",
       "      <th>25%</th>\n",
       "      <td>1.894260e+05</td>\n",
       "      <td>99.058000</td>\n",
       "      <td>25.000000</td>\n",
       "      <td>13.000000</td>\n",
       "      <td>4.000000</td>\n",
       "    </tr>\n",
       "    <tr>\n",
       "      <th>50%</th>\n",
       "      <td>2.250000e+05</td>\n",
       "      <td>118.552000</td>\n",
       "      <td>49.000000</td>\n",
       "      <td>37.000000</td>\n",
       "      <td>8.000000</td>\n",
       "    </tr>\n",
       "    <tr>\n",
       "      <th>75%</th>\n",
       "      <td>2.597330e+05</td>\n",
       "      <td>135.946000</td>\n",
       "      <td>74.000000</td>\n",
       "      <td>65.000000</td>\n",
       "      <td>13.000000</td>\n",
       "    </tr>\n",
       "    <tr>\n",
       "      <th>max</th>\n",
       "      <td>3.079157e+06</td>\n",
       "      <td>241.009000</td>\n",
       "      <td>100.000000</td>\n",
       "      <td>100.000000</td>\n",
       "      <td>87.000000</td>\n",
       "    </tr>\n",
       "  </tbody>\n",
       "</table>\n",
       "</div>"
      ],
      "text/plain": [
       "             Length          Tempo  Week Position  Peak Position  \\\n",
       "count  2.800390e+05  280039.000000  280039.000000  280039.000000   \n",
       "mean   2.292466e+05     120.031451      49.559797      40.343195   \n",
       "std    6.507021e+04      27.766977      28.767562      29.215515   \n",
       "min    2.968800e+04       0.000000       1.000000       1.000000   \n",
       "25%    1.894260e+05      99.058000      25.000000      13.000000   \n",
       "50%    2.250000e+05     118.552000      49.000000      37.000000   \n",
       "75%    2.597330e+05     135.946000      74.000000      65.000000   \n",
       "max    3.079157e+06     241.009000     100.000000     100.000000   \n",
       "\n",
       "       Weeks on Chart  \n",
       "count   280039.000000  \n",
       "mean         9.364606  \n",
       "std          7.625508  \n",
       "min          1.000000  \n",
       "25%          4.000000  \n",
       "50%          8.000000  \n",
       "75%         13.000000  \n",
       "max         87.000000  "
      ]
     },
     "execution_count": 7,
     "metadata": {},
     "output_type": "execute_result"
    }
   ],
   "source": [
    "new_df.describe()\n",
    "#tempo min: 0, max: 241, 25: 99, 50: 119, 75: 136- for bin reference"
   ]
  },
  {
   "cell_type": "code",
   "execution_count": 8,
   "metadata": {},
   "outputs": [
    {
     "data": {
      "text/html": [
       "<div>\n",
       "<style scoped>\n",
       "    .dataframe tbody tr th:only-of-type {\n",
       "        vertical-align: middle;\n",
       "    }\n",
       "\n",
       "    .dataframe tbody tr th {\n",
       "        vertical-align: top;\n",
       "    }\n",
       "\n",
       "    .dataframe thead th {\n",
       "        text-align: right;\n",
       "    }\n",
       "</style>\n",
       "<table border=\"1\" class=\"dataframe\">\n",
       "  <thead>\n",
       "    <tr style=\"text-align: right;\">\n",
       "      <th></th>\n",
       "      <th>Song</th>\n",
       "      <th>Length</th>\n",
       "      <th>Tempo</th>\n",
       "      <th>Date</th>\n",
       "      <th>Week Position</th>\n",
       "      <th>Peak Position</th>\n",
       "      <th>Weeks on Chart</th>\n",
       "    </tr>\n",
       "    <tr>\n",
       "      <th>Performer</th>\n",
       "      <th></th>\n",
       "      <th></th>\n",
       "      <th></th>\n",
       "      <th></th>\n",
       "      <th></th>\n",
       "      <th></th>\n",
       "      <th></th>\n",
       "    </tr>\n",
       "  </thead>\n",
       "  <tbody>\n",
       "    <tr>\n",
       "      <th>Drake</th>\n",
       "      <td>Nice For What</td>\n",
       "      <td>211.0</td>\n",
       "      <td>93.0</td>\n",
       "      <td>7/28/2018</td>\n",
       "      <td>4.0</td>\n",
       "      <td>1.0</td>\n",
       "      <td>15.0</td>\n",
       "    </tr>\n",
       "    <tr>\n",
       "      <th>Drake</th>\n",
       "      <td>God's Plan</td>\n",
       "      <td>199.0</td>\n",
       "      <td>77.0</td>\n",
       "      <td>2/3/2018</td>\n",
       "      <td>1.0</td>\n",
       "      <td>1.0</td>\n",
       "      <td>1.0</td>\n",
       "    </tr>\n",
       "    <tr>\n",
       "      <th>Ke$ha</th>\n",
       "      <td>We R Who We R</td>\n",
       "      <td>199.0</td>\n",
       "      <td>120.0</td>\n",
       "      <td>11/13/2010</td>\n",
       "      <td>1.0</td>\n",
       "      <td>1.0</td>\n",
       "      <td>1.0</td>\n",
       "    </tr>\n",
       "    <tr>\n",
       "      <th>Puff Daddy &amp; Faith Evans Featuring 112</th>\n",
       "      <td>I'll Be Missing You</td>\n",
       "      <td>309.0</td>\n",
       "      <td>110.0</td>\n",
       "      <td>6/14/1997</td>\n",
       "      <td>1.0</td>\n",
       "      <td>1.0</td>\n",
       "      <td>1.0</td>\n",
       "    </tr>\n",
       "    <tr>\n",
       "      <th>Justin Bieber</th>\n",
       "      <td>What Do You Mean?</td>\n",
       "      <td>206.0</td>\n",
       "      <td>125.0</td>\n",
       "      <td>4/16/2016</td>\n",
       "      <td>41.0</td>\n",
       "      <td>1.0</td>\n",
       "      <td>31.0</td>\n",
       "    </tr>\n",
       "    <tr>\n",
       "      <th>...</th>\n",
       "      <td>...</td>\n",
       "      <td>...</td>\n",
       "      <td>...</td>\n",
       "      <td>...</td>\n",
       "      <td>...</td>\n",
       "      <td>...</td>\n",
       "      <td>...</td>\n",
       "    </tr>\n",
       "    <tr>\n",
       "      <th>Dixie Chicks</th>\n",
       "      <td>Goodbye Earl</td>\n",
       "      <td>259.0</td>\n",
       "      <td>123.0</td>\n",
       "      <td>3/18/2000</td>\n",
       "      <td>40.0</td>\n",
       "      <td>40.0</td>\n",
       "      <td>1.0</td>\n",
       "    </tr>\n",
       "    <tr>\n",
       "      <th>The Killers</th>\n",
       "      <td>Mr. Brightside</td>\n",
       "      <td>223.0</td>\n",
       "      <td>148.0</td>\n",
       "      <td>2/12/2005</td>\n",
       "      <td>40.0</td>\n",
       "      <td>40.0</td>\n",
       "      <td>1.0</td>\n",
       "    </tr>\n",
       "    <tr>\n",
       "      <th>Mariah Carey</th>\n",
       "      <td>Dreamlover</td>\n",
       "      <td>233.0</td>\n",
       "      <td>101.0</td>\n",
       "      <td>8/7/1993</td>\n",
       "      <td>40.0</td>\n",
       "      <td>40.0</td>\n",
       "      <td>1.0</td>\n",
       "    </tr>\n",
       "    <tr>\n",
       "      <th>Guns N' Roses</th>\n",
       "      <td>November Rain</td>\n",
       "      <td>536.0</td>\n",
       "      <td>80.0</td>\n",
       "      <td>6/27/1992</td>\n",
       "      <td>40.0</td>\n",
       "      <td>40.0</td>\n",
       "      <td>1.0</td>\n",
       "    </tr>\n",
       "    <tr>\n",
       "      <th>Melissa Etheridge</th>\n",
       "      <td>Nowhere To Go</td>\n",
       "      <td>353.0</td>\n",
       "      <td>103.0</td>\n",
       "      <td>2/8/1997</td>\n",
       "      <td>92.0</td>\n",
       "      <td>40.0</td>\n",
       "      <td>18.0</td>\n",
       "    </tr>\n",
       "  </tbody>\n",
       "</table>\n",
       "<p>746 rows × 7 columns</p>\n",
       "</div>"
      ],
      "text/plain": [
       "                                                       Song  Length  Tempo  \\\n",
       "Performer                                                                    \n",
       "Drake                                         Nice For What   211.0   93.0   \n",
       "Drake                                            God's Plan   199.0   77.0   \n",
       "Ke$ha                                         We R Who We R   199.0  120.0   \n",
       "Puff Daddy & Faith Evans Featuring 112  I'll Be Missing You   309.0  110.0   \n",
       "Justin Bieber                             What Do You Mean?   206.0  125.0   \n",
       "...                                                     ...     ...    ...   \n",
       "Dixie Chicks                                   Goodbye Earl   259.0  123.0   \n",
       "The Killers                                  Mr. Brightside   223.0  148.0   \n",
       "Mariah Carey                                     Dreamlover   233.0  101.0   \n",
       "Guns N' Roses                                 November Rain   536.0   80.0   \n",
       "Melissa Etheridge                             Nowhere To Go   353.0  103.0   \n",
       "\n",
       "                                              Date  Week Position  \\\n",
       "Performer                                                           \n",
       "Drake                                    7/28/2018            4.0   \n",
       "Drake                                     2/3/2018            1.0   \n",
       "Ke$ha                                   11/13/2010            1.0   \n",
       "Puff Daddy & Faith Evans Featuring 112   6/14/1997            1.0   \n",
       "Justin Bieber                            4/16/2016           41.0   \n",
       "...                                            ...            ...   \n",
       "Dixie Chicks                             3/18/2000           40.0   \n",
       "The Killers                              2/12/2005           40.0   \n",
       "Mariah Carey                              8/7/1993           40.0   \n",
       "Guns N' Roses                            6/27/1992           40.0   \n",
       "Melissa Etheridge                         2/8/1997           92.0   \n",
       "\n",
       "                                        Peak Position  Weeks on Chart  \n",
       "Performer                                                              \n",
       "Drake                                             1.0            15.0  \n",
       "Drake                                             1.0             1.0  \n",
       "Ke$ha                                             1.0             1.0  \n",
       "Puff Daddy & Faith Evans Featuring 112            1.0             1.0  \n",
       "Justin Bieber                                     1.0            31.0  \n",
       "...                                               ...             ...  \n",
       "Dixie Chicks                                     40.0             1.0  \n",
       "The Killers                                      40.0             1.0  \n",
       "Mariah Carey                                     40.0             1.0  \n",
       "Guns N' Roses                                    40.0             1.0  \n",
       "Melissa Etheridge                                40.0            18.0  \n",
       "\n",
       "[746 rows x 7 columns]"
      ]
     },
     "execution_count": 8,
     "metadata": {},
     "output_type": "execute_result"
    }
   ],
   "source": [
    "peak_df = new_df.sort_values(by=\"Peak Position\")\n",
    "peak_df = peak_df.drop_duplicates([\"Song\"], keep=\"last\")\n",
    "\n",
    "def convert(x):\n",
    "    return round((x/1000),0)\n",
    "\n",
    "def rounding(x):\n",
    "    return round(x,0)\n",
    "    \n",
    "peak_df[\"Length\"] = peak_df[\"Length\"].apply(convert)\n",
    "peak_df[\"Tempo\"] = peak_df[\"Tempo\"].apply(rounding)\n",
    "\n",
    "peak_df = peak_df.loc[(peak_df[\"Peak Position\"] <= 40)]\n",
    "peak_df"
   ]
  },
  {
   "cell_type": "code",
   "execution_count": 9,
   "metadata": {},
   "outputs": [],
   "source": [
    "def regress(x,y):\n",
    "    import scipy.stats as st\n",
    "    from scipy.stats import linregress\n",
    "    corr = st.pearsonr(x, y)\n",
    "    corr1 = corr[0]\n",
    "    rsquare = round(corr1**2,6)\n",
    "    print(f\"The r-squared is: {rsquare}\")\n",
    "    \n",
    "    (slope, intercept, rvalue, pvalue, stderr) = linregress(x, y)\n",
    "    regress_values = x * slope + intercept\n",
    "    line_eq = \"y = \" + str(round(slope,2)) + \"x + \" + str(round(intercept,2))\n",
    "    plt.plot(x,regress_values,\"r-\")\n",
    "    print(f\"The regression line is: {line_eq}\")"
   ]
  },
  {
   "cell_type": "code",
   "execution_count": 58,
   "metadata": {},
   "outputs": [
    {
     "name": "stdout",
     "output_type": "stream",
     "text": [
      "The r-squared is: 0.002604\n",
      "The regression line is: y = 0.25x + 229.61\n"
     ]
    },
    {
     "data": {
      "image/png": "[encoded data removed]",
      "text/plain": [
       "<Figure size 432x288 with 1 Axes>"
      ]
     },
     "metadata": {
      "needs_background": "light"
     },
     "output_type": "display_data"
    }
   ],
   "source": [
    "x_axis = peak_df[\"Peak Position\"]\n",
    "y_axis = peak_df[\"Length\"]\n",
    "\n",
    "plt.scatter(x_axis, y_axis)\n",
    "plt.xlabel(\"Peak Position\")\n",
    "plt.ylabel(\"Length of Song (in Seconds)\")\n",
    "plt.title(\"Length of Song vs. Peak Position on Hot 100\")\n",
    "regress(x_axis, y_axis)\n",
    "plt.tight_layout()\n",
    "plt.savefig(\"Images/LenvsPeak.png\")"
   ]
  },
  {
   "cell_type": "code",
   "execution_count": 59,
   "metadata": {},
   "outputs": [
    {
     "data": {
      "image/png": "[encoded data removed]",
      "text/plain": [
       "<Figure size 1080x216 with 1 Axes>"
      ]
     },
     "metadata": {
      "needs_background": "light"
     },
     "output_type": "display_data"
    }
   ],
   "source": [
    "peak_df2 = peak_df.groupby([\"Peak Position\"])\n",
    "avg = peak_df2[\"Length\"].mean()\n",
    "\n",
    "peakchart = avg.plot(kind=\"bar\", figsize=(15,3))\n",
    "peakchart.set_xlabel(\"Peak Position\")\n",
    "peakchart.set_ylabel(\"Average Length in Second\")\n",
    "plt.tight_layout()\n",
    "plt.savefig(\"Images/LenvsPeakBar.png\")"
   ]
  },
  {
   "cell_type": "code",
   "execution_count": 60,
   "metadata": {},
   "outputs": [
    {
     "name": "stdout",
     "output_type": "stream",
     "text": [
      "The r-squared is: 0.000629\n",
      "The regression line is: y = 0.06x + 120.04\n"
     ]
    },
    {
     "data": {
      "image/png": "[encoded data removed]",
      "text/plain": [
       "<Figure size 432x288 with 1 Axes>"
      ]
     },
     "metadata": {
      "needs_background": "light"
     },
     "output_type": "display_data"
    }
   ],
   "source": [
    "x_axis = peak_df[\"Peak Position\"]\n",
    "y_axis = peak_df[\"Tempo\"]\n",
    "\n",
    "plt.scatter(x_axis, y_axis)\n",
    "plt.xlabel(\"Peak Position\")\n",
    "plt.ylabel(\"Tempo (in BPM)\")\n",
    "plt.title(\"BPM vs. Peak Position on Hot 100\")\n",
    "regress(x_axis, y_axis)\n",
    "plt.tight_layout()\n",
    "plt.savefig(\"Images/bpmvsPeak.png\")"
   ]
  },
  {
   "cell_type": "code",
   "execution_count": 61,
   "metadata": {},
   "outputs": [
    {
     "data": {
      "image/png": "[encoded data removed]",
      "text/plain": [
       "<Figure size 1080x216 with 1 Axes>"
      ]
     },
     "metadata": {
      "needs_background": "light"
     },
     "output_type": "display_data"
    }
   ],
   "source": [
    "avg2 = peak_df2[\"Tempo\"].mean()\n",
    "\n",
    "peakchart2 = avg2.plot(kind=\"bar\", figsize=(15,3))\n",
    "peakchart2.set_xlabel(\"Peak Position\")\n",
    "peakchart2.set_ylabel(\"Average BPM\")\n",
    "plt.tight_layout()\n",
    "plt.savefig(\"Images/bpmvsPeakBar.png\")"
   ]
  },
  {
   "cell_type": "code",
   "execution_count": 14,
   "metadata": {},
   "outputs": [
    {
     "data": {
      "text/html": [
       "<div>\n",
       "<style scoped>\n",
       "    .dataframe tbody tr th:only-of-type {\n",
       "        vertical-align: middle;\n",
       "    }\n",
       "\n",
       "    .dataframe tbody tr th {\n",
       "        vertical-align: top;\n",
       "    }\n",
       "\n",
       "    .dataframe thead th {\n",
       "        text-align: right;\n",
       "    }\n",
       "</style>\n",
       "<table border=\"1\" class=\"dataframe\">\n",
       "  <thead>\n",
       "    <tr style=\"text-align: right;\">\n",
       "      <th></th>\n",
       "      <th>Song</th>\n",
       "      <th>Length</th>\n",
       "      <th>Tempo</th>\n",
       "      <th>Date</th>\n",
       "      <th>Week Position</th>\n",
       "      <th>Peak Position</th>\n",
       "      <th>Weeks on Chart</th>\n",
       "    </tr>\n",
       "    <tr>\n",
       "      <th>Performer</th>\n",
       "      <th></th>\n",
       "      <th></th>\n",
       "      <th></th>\n",
       "      <th></th>\n",
       "      <th></th>\n",
       "      <th></th>\n",
       "      <th></th>\n",
       "    </tr>\n",
       "  </thead>\n",
       "  <tbody>\n",
       "    <tr>\n",
       "      <th>Glee Cast</th>\n",
       "      <td>Blackbird</td>\n",
       "      <td>140.0</td>\n",
       "      <td>93.0</td>\n",
       "      <td>4/2/2011</td>\n",
       "      <td>37.0</td>\n",
       "      <td>37.0</td>\n",
       "      <td>1.0</td>\n",
       "    </tr>\n",
       "    <tr>\n",
       "      <th>Ed Sheeran</th>\n",
       "      <td>Afire Love</td>\n",
       "      <td>314.0</td>\n",
       "      <td>98.0</td>\n",
       "      <td>7/5/2014</td>\n",
       "      <td>37.0</td>\n",
       "      <td>37.0</td>\n",
       "      <td>1.0</td>\n",
       "    </tr>\n",
       "    <tr>\n",
       "      <th>Glee Cast</th>\n",
       "      <td>Sweet Caroline</td>\n",
       "      <td>118.0</td>\n",
       "      <td>124.0</td>\n",
       "      <td>11/7/2009</td>\n",
       "      <td>34.0</td>\n",
       "      <td>34.0</td>\n",
       "      <td>1.0</td>\n",
       "    </tr>\n",
       "    <tr>\n",
       "      <th>Taylor Swift</th>\n",
       "      <td>Sweeter Than Fiction</td>\n",
       "      <td>238.0</td>\n",
       "      <td>135.0</td>\n",
       "      <td>11/9/2013</td>\n",
       "      <td>34.0</td>\n",
       "      <td>34.0</td>\n",
       "      <td>1.0</td>\n",
       "    </tr>\n",
       "    <tr>\n",
       "      <th>J. Cole</th>\n",
       "      <td>She's Mine Pt. 2</td>\n",
       "      <td>209.0</td>\n",
       "      <td>140.0</td>\n",
       "      <td>12/31/2016</td>\n",
       "      <td>34.0</td>\n",
       "      <td>34.0</td>\n",
       "      <td>1.0</td>\n",
       "    </tr>\n",
       "    <tr>\n",
       "      <th>...</th>\n",
       "      <td>...</td>\n",
       "      <td>...</td>\n",
       "      <td>...</td>\n",
       "      <td>...</td>\n",
       "      <td>...</td>\n",
       "      <td>...</td>\n",
       "      <td>...</td>\n",
       "    </tr>\n",
       "    <tr>\n",
       "      <th>OneRepublic</th>\n",
       "      <td>Counting Stars</td>\n",
       "      <td>258.0</td>\n",
       "      <td>122.0</td>\n",
       "      <td>10/18/2014</td>\n",
       "      <td>50.0</td>\n",
       "      <td>2.0</td>\n",
       "      <td>68.0</td>\n",
       "    </tr>\n",
       "    <tr>\n",
       "      <th>LeAnn Rimes</th>\n",
       "      <td>How Do I Live</td>\n",
       "      <td>267.0</td>\n",
       "      <td>128.0</td>\n",
       "      <td>10/10/1998</td>\n",
       "      <td>45.0</td>\n",
       "      <td>2.0</td>\n",
       "      <td>69.0</td>\n",
       "    </tr>\n",
       "    <tr>\n",
       "      <th>Jason Mraz</th>\n",
       "      <td>I'm Yours</td>\n",
       "      <td>242.0</td>\n",
       "      <td>151.0</td>\n",
       "      <td>10/10/2009</td>\n",
       "      <td>48.0</td>\n",
       "      <td>6.0</td>\n",
       "      <td>76.0</td>\n",
       "    </tr>\n",
       "    <tr>\n",
       "      <th>AWOLNATION</th>\n",
       "      <td>Sail</td>\n",
       "      <td>259.0</td>\n",
       "      <td>119.0</td>\n",
       "      <td>3/22/2014</td>\n",
       "      <td>45.0</td>\n",
       "      <td>17.0</td>\n",
       "      <td>79.0</td>\n",
       "    </tr>\n",
       "    <tr>\n",
       "      <th>Imagine Dragons</th>\n",
       "      <td>Radioactive</td>\n",
       "      <td>187.0</td>\n",
       "      <td>136.0</td>\n",
       "      <td>5/10/2014</td>\n",
       "      <td>49.0</td>\n",
       "      <td>3.0</td>\n",
       "      <td>87.0</td>\n",
       "    </tr>\n",
       "  </tbody>\n",
       "</table>\n",
       "<p>9794 rows × 7 columns</p>\n",
       "</div>"
      ],
      "text/plain": [
       "                                 Song  Length  Tempo        Date  \\\n",
       "Performer                                                          \n",
       "Glee Cast                   Blackbird   140.0   93.0    4/2/2011   \n",
       "Ed Sheeran                 Afire Love   314.0   98.0    7/5/2014   \n",
       "Glee Cast              Sweet Caroline   118.0  124.0   11/7/2009   \n",
       "Taylor Swift     Sweeter Than Fiction   238.0  135.0   11/9/2013   \n",
       "J. Cole              She's Mine Pt. 2   209.0  140.0  12/31/2016   \n",
       "...                               ...     ...    ...         ...   \n",
       "OneRepublic            Counting Stars   258.0  122.0  10/18/2014   \n",
       "LeAnn Rimes             How Do I Live   267.0  128.0  10/10/1998   \n",
       "Jason Mraz                  I'm Yours   242.0  151.0  10/10/2009   \n",
       "AWOLNATION                       Sail   259.0  119.0   3/22/2014   \n",
       "Imagine Dragons           Radioactive   187.0  136.0   5/10/2014   \n",
       "\n",
       "                 Week Position  Peak Position  Weeks on Chart  \n",
       "Performer                                                      \n",
       "Glee Cast                 37.0           37.0             1.0  \n",
       "Ed Sheeran                37.0           37.0             1.0  \n",
       "Glee Cast                 34.0           34.0             1.0  \n",
       "Taylor Swift              34.0           34.0             1.0  \n",
       "J. Cole                   34.0           34.0             1.0  \n",
       "...                        ...            ...             ...  \n",
       "OneRepublic               50.0            2.0            68.0  \n",
       "LeAnn Rimes               45.0            2.0            69.0  \n",
       "Jason Mraz                48.0            6.0            76.0  \n",
       "AWOLNATION                45.0           17.0            79.0  \n",
       "Imagine Dragons           49.0            3.0            87.0  \n",
       "\n",
       "[9794 rows x 7 columns]"
      ]
     },
     "execution_count": 14,
     "metadata": {},
     "output_type": "execute_result"
    }
   ],
   "source": [
    "time_df = new_df.sort_values(by=\"Weeks on Chart\")\n",
    "time_df = time_df.drop_duplicates([\"Song\"], keep=\"last\")\n",
    "    \n",
    "time_df[\"Length\"] = time_df[\"Length\"].apply(convert)\n",
    "time_df[\"Tempo\"] = time_df[\"Tempo\"].apply(rounding)\n",
    "\n",
    "time_df = time_df.loc[(time_df[\"Peak Position\"] <= 40)]\n",
    "#time_df = time_df.loc[(time_df[\"Weeks on Chart\"] > 10)]\n",
    "\n",
    "time_df"
   ]
  },
  {
   "cell_type": "code",
   "execution_count": 62,
   "metadata": {},
   "outputs": [
    {
     "name": "stdout",
     "output_type": "stream",
     "text": [
      "The r-squared is: 0.046966\n",
      "The regression line is: y = 1.79x + 193.15\n"
     ]
    },
    {
     "data": {
      "image/png": "[encoded data removed]",
      "text/plain": [
       "<Figure size 432x288 with 1 Axes>"
      ]
     },
     "metadata": {
      "needs_background": "light"
     },
     "output_type": "display_data"
    }
   ],
   "source": [
    "x_axis = time_df[\"Weeks on Chart\"]\n",
    "y_axis = time_df[\"Length\"]\n",
    "\n",
    "plt.scatter(x_axis, y_axis)\n",
    "plt.xlabel(\"Weeks on Chart\")\n",
    "plt.ylabel(\"Length of Song (in Seconds)\")\n",
    "plt.title(\"Length of Song vs. #Weeks Charting\")\n",
    "regress(x_axis, y_axis)\n",
    "plt.tight_layout()\n",
    "plt.savefig(\"Images/LenvsChart.png\")"
   ]
  },
  {
   "cell_type": "code",
   "execution_count": 63,
   "metadata": {},
   "outputs": [
    {
     "data": {
      "image/png": "[encoded data removed]",
      "text/plain": [
       "<Figure size 1080x216 with 1 Axes>"
      ]
     },
     "metadata": {
      "needs_background": "light"
     },
     "output_type": "display_data"
    }
   ],
   "source": [
    "time_df2 = time_df.groupby([\"Weeks on Chart\"])\n",
    "avg3 = time_df2[\"Length\"].mean()\n",
    "\n",
    "timechart = avg3.plot(kind=\"bar\", figsize=(15,3))\n",
    "timechart.set_xlabel(\"Weeks on Chart\")\n",
    "timechart.set_ylabel(\"Average Length in Seconds\")\n",
    "plt.tight_layout()\n",
    "plt.savefig(\"Images/LenvsChartBar.png\")"
   ]
  },
  {
   "cell_type": "code",
   "execution_count": 64,
   "metadata": {},
   "outputs": [
    {
     "name": "stdout",
     "output_type": "stream",
     "text": [
      "The r-squared is: 0.000327\n",
      "The regression line is: y = -0.06x + 121.02\n"
     ]
    },
    {
     "data": {
      "image/png": "[encoded data removed]",
      "text/plain": [
       "<Figure size 432x288 with 1 Axes>"
      ]
     },
     "metadata": {
      "needs_background": "light"
     },
     "output_type": "display_data"
    }
   ],
   "source": [
    "x_axis = time_df[\"Weeks on Chart\"]\n",
    "y_axis = time_df[\"Tempo\"]\n",
    "\n",
    "plt.scatter(x_axis, y_axis)\n",
    "plt.xlabel(\"Weeks on Chart\")\n",
    "plt.ylabel(\"Tempo (in BPM)\")\n",
    "plt.title(\"BPM vs. #Weeks Charting\")\n",
    "regress(x_axis, y_axis)\n",
    "plt.tight_layout()\n",
    "plt.savefig(\"Images/bpmvsChart.png\")"
   ]
  },
  {
   "cell_type": "code",
   "execution_count": 65,
   "metadata": {},
   "outputs": [
    {
     "data": {
      "image/png": "[encoded data removed]",
      "text/plain": [
       "<Figure size 1080x216 with 1 Axes>"
      ]
     },
     "metadata": {
      "needs_background": "light"
     },
     "output_type": "display_data"
    }
   ],
   "source": [
    "avg4 = time_df2[\"Tempo\"].mean()\n",
    "\n",
    "timechart2 = avg4.plot(kind=\"bar\", figsize=(15,3))\n",
    "timechart2.set_xlabel(\"Weeks on Chart\")\n",
    "timechart2.set_ylabel(\"Average BPM\")\n",
    "plt.tight_layout()\n",
    "plt.savefig(\"Images/bpmvsChartBar.png\")"
   ]
  },
  {
   "cell_type": "code",
   "execution_count": 20,
   "metadata": {},
   "outputs": [],
   "source": [
    "compare_df = new_df.sort_values(by=\"Peak Position\")\n",
    "compare_df = compare_df.drop_duplicates([\"Song\"], keep=\"last\")\n",
    "    \n",
    "compare_df[\"Length\"] = compare_df[\"Length\"].apply(convert)\n",
    "compare_df[\"Tempo\"] = compare_df[\"Tempo\"].apply(rounding)\n",
    "\n",
    "compare_df = compare_df.loc[(compare_df[\"Peak Position\"] <= 40)]"
   ]
  },
  {
   "cell_type": "code",
   "execution_count": 66,
   "metadata": {},
   "outputs": [
    {
     "name": "stdout",
     "output_type": "stream",
     "text": [
      "The r-squared is: 0.001045\n",
      "The regression line is: y = -0.02x + 125.37\n"
     ]
    },
    {
     "data": {
      "image/png": "[encoded data removed]",
      "text/plain": [
       "<Figure size 432x288 with 1 Axes>"
      ]
     },
     "metadata": {
      "needs_background": "light"
     },
     "output_type": "display_data"
    }
   ],
   "source": [
    "x_axis = compare_df[\"Length\"]\n",
    "y_axis = compare_df[\"Tempo\"]\n",
    "\n",
    "plt.scatter(x_axis, y_axis)\n",
    "plt.xlabel(\"Length (in Seconds)\")\n",
    "plt.ylabel(\"Tempo (in BPM)\")\n",
    "plt.title(\"Song Length vs. BPM\")\n",
    "regress(x_axis, y_axis)\n",
    "plt.tight_layout()\n",
    "plt.savefig(\"Images/LenvsBPM.png\")"
   ]
  },
  {
   "cell_type": "code",
   "execution_count": 67,
   "metadata": {},
   "outputs": [
    {
     "data": {
      "image/png": "[encoded data removed]",
      "text/plain": [
       "<Figure size 432x288 with 1 Axes>"
      ]
     },
     "metadata": {
      "needs_background": "light"
     },
     "output_type": "display_data"
    }
   ],
   "source": [
    "#tempo min: 0, max: 241, 25: 99, 50: 119, 75: 136- for bin reference\n",
    "\n",
    "quartiles = compare_df[\"Tempo\"].quantile([0, 0.25, 0.5, 0.75, 1])\n",
    "lowest = round(quartiles[0],2)\n",
    "lower = round(quartiles[0.25],2)\n",
    "middle = round(quartiles[0.5],2)\n",
    "higher = round(quartiles[0.75],2)\n",
    "highest = round(quartiles[1],2)\n",
    "\n",
    "tempos = [lowest, lower, middle, higher, highest]\n",
    "\n",
    "x_axis = np.arange(len(tempos))\n",
    "ticklocations = [value for value in x_axis]\n",
    "\n",
    "#avg5 = compare_df2[\"Length\"].mean()\n",
    "\n",
    "plt.bar(x_axis, tempos, align=\"center\")\n",
    "plt.xticks(ticklocations, [\"Slow\", \"Medium-Slow\", \"Medium\", \"Medium-Fast\", \"Fast\"], rotation=45)\n",
    "plt.xlabel(\"Relative Tempo of Songs\")\n",
    "plt.ylabel(\"BPM\")\n",
    "plt.tight_layout()\n",
    "plt.savefig(\"Images/BPMCategories.png\")"
   ]
  },
  {
   "cell_type": "code",
   "execution_count": 40,
   "metadata": {},
   "outputs": [
    {
     "data": {
      "text/plain": [
       "[58.0, 98.0, 121.0, 140.0, 206.0]"
      ]
     },
     "execution_count": 40,
     "metadata": {},
     "output_type": "execute_result"
    }
   ],
   "source": [
    "tempos"
   ]
  },
  {
   "cell_type": "code",
   "execution_count": 68,
   "metadata": {},
   "outputs": [
    {
     "data": {
      "image/png": "[encoded data removed]",
      "text/plain": [
       "<Figure size 432x288 with 1 Axes>"
      ]
     },
     "metadata": {
      "needs_background": "light"
     },
     "output_type": "display_data"
    }
   ],
   "source": [
    "num1 = compare_df.loc[(compare_df[\"Tempo\"] >= 58.0) & (compare_df[\"Tempo\"] < 98.0)]\n",
    "number1 = num1[\"Song\"].count()\n",
    "\n",
    "num2 = compare_df.loc[(compare_df[\"Tempo\"] >= 98.0) & (compare_df[\"Tempo\"] < 121.0)]\n",
    "number2 = num2[\"Song\"].count()\n",
    "\n",
    "num3 = compare_df.loc[(compare_df[\"Tempo\"] >= 121.0) & (compare_df[\"Tempo\"] < 140.0)]\n",
    "number3 = num3[\"Song\"].count()\n",
    "\n",
    "num4 = compare_df.loc[(compare_df[\"Tempo\"] >= 140.0) & (compare_df[\"Tempo\"] < 206.0)]\n",
    "number4 = num4[\"Song\"].count()\n",
    "\n",
    "numbers = [number1, number2, number3, number4]\n",
    "x_axis = [1,2,3,4]\n",
    "\n",
    "plt.bar(x_axis, numbers, align=\"center\")\n",
    "plt.xticks([1,2,3,4], [\"Slow\", \"Medium-Slow\", \"Medium-Fast\", \"Fast\"], rotation=45)\n",
    "plt.xlabel(\"Relative Tempo of Songs\")\n",
    "plt.ylabel(\"Number of Songs That Charted\")\n",
    "plt.tight_layout()\n",
    "plt.savefig(\"Images/BPMCategoriesperSong.png\")"
   ]
  },
  {
   "cell_type": "code",
   "execution_count": 69,
   "metadata": {},
   "outputs": [
    {
     "data": {
      "image/png": "[encoded data removed]",
      "text/plain": [
       "<Figure size 432x288 with 1 Axes>"
      ]
     },
     "metadata": {
      "needs_background": "light"
     },
     "output_type": "display_data"
    }
   ],
   "source": [
    "quartiles = compare_df[\"Length\"].quantile([0, 0.25, 0.5, 0.75, 1])\n",
    "lowest = round(quartiles[0],2)\n",
    "lower = round(quartiles[0.25],2)\n",
    "middle = round(quartiles[0.5],2)\n",
    "higher = round(quartiles[0.75],2)\n",
    "highest = round(quartiles[1],2)\n",
    "\n",
    "lengths = [lowest, lower, middle, higher, highest]\n",
    "\n",
    "x_axis = np.arange(len(lengths))\n",
    "ticklocations = [value for value in x_axis]\n",
    "\n",
    "plt.bar(x_axis, lengths, align=\"center\")\n",
    "plt.xticks(ticklocations, [\"Short\", \"Medium-Short\", \"Medium\", \"Medium-Long\", \"Long\"], rotation=45)\n",
    "plt.xlabel(\"Relative Length of Song\")\n",
    "plt.ylabel(\"Seconds\")\n",
    "plt.tight_layout()\n",
    "plt.savefig(\"Images/LenCategories.png\")"
   ]
  },
  {
   "cell_type": "code",
   "execution_count": 48,
   "metadata": {},
   "outputs": [
    {
     "data": {
      "text/plain": [
       "[96.0, 201.0, 230.0, 264.0, 536.0]"
      ]
     },
     "execution_count": 48,
     "metadata": {},
     "output_type": "execute_result"
    }
   ],
   "source": [
    "lengths"
   ]
  },
  {
   "cell_type": "code",
   "execution_count": 70,
   "metadata": {},
   "outputs": [
    {
     "data": {
      "image/png": "[encoded data removed]",
      "text/plain": [
       "<Figure size 432x288 with 1 Axes>"
      ]
     },
     "metadata": {
      "needs_background": "light"
     },
     "output_type": "display_data"
    }
   ],
   "source": [
    "num5 = compare_df.loc[(compare_df[\"Length\"] >= 96.0) & (compare_df[\"Length\"] < 201.0)]\n",
    "number5 = num5[\"Song\"].count()\n",
    "\n",
    "num6 = compare_df.loc[(compare_df[\"Length\"] >= 201.0) & (compare_df[\"Length\"] < 230.0)]\n",
    "number6 = num6[\"Song\"].count()\n",
    "\n",
    "num7 = compare_df.loc[(compare_df[\"Length\"] >= 230.0) & (compare_df[\"Length\"] < 264.0)]\n",
    "number7 = num7[\"Song\"].count()\n",
    "\n",
    "num8 = compare_df.loc[(compare_df[\"Length\"] >= 264.0) & (compare_df[\"Length\"] < 536.0)]\n",
    "number8 = num8[\"Song\"].count()\n",
    "\n",
    "numbers2 = [number5, number6, number7, number8]\n",
    "x_axis = [1,2,3,4]\n",
    "\n",
    "plt.bar(x_axis, numbers2, align=\"center\")\n",
    "plt.xticks([1,2,3,4], [\"Short\", \"Medium-Short\", \"Medium-Long\", \"Long\"], rotation=45)\n",
    "plt.xlabel(\"Relative Length of Songs\")\n",
    "plt.ylabel(\"Number of Songs That Charted\")\n",
    "plt.tight_layout()\n",
    "plt.savefig(\"Images/LenCategoriesperSong.png\")"
   ]
  },
  {
   "cell_type": "code",
   "execution_count": 71,
   "metadata": {},
   "outputs": [
    {
     "data": {
      "image/png": "[encoded data removed]",
      "text/plain": [
       "<Figure size 432x288 with 1 Axes>"
      ]
     },
     "metadata": {
      "needs_background": "light"
     },
     "output_type": "display_data"
    }
   ],
   "source": [
    "num9 = compare_df.loc[(compare_df[\"Tempo\"] >= 58.0) & (compare_df[\"Tempo\"] < 98.0)]\n",
    "number9 = num9[\"Length\"].mean()\n",
    "std9 = num9[\"Length\"].std()\n",
    "\n",
    "num10 = compare_df.loc[(compare_df[\"Tempo\"] >= 98.0) & (compare_df[\"Tempo\"] < 121.0)]\n",
    "number10 = num10[\"Length\"].mean()\n",
    "std10 = num10[\"Length\"].std()\n",
    "\n",
    "num11 = compare_df.loc[(compare_df[\"Tempo\"] >= 121.0) & (compare_df[\"Tempo\"] < 140.0)]\n",
    "number11 = num11[\"Length\"].mean()\n",
    "std11 = num11[\"Length\"].std()\n",
    "\n",
    "num12 = compare_df.loc[(compare_df[\"Tempo\"] >= 140.0) & (compare_df[\"Tempo\"] < 206.0)]\n",
    "number12 = num12[\"Length\"].mean()\n",
    "std12 = num12[\"Length\"].std()\n",
    "\n",
    "numbers3 = [number9, number10, number11, number12]\n",
    "error3 = [std9, std10, std11, std12]\n",
    "x_axis = [1,2,3,4]\n",
    "\n",
    "plt.bar(x_axis, numbers3, yerr=error3, align=\"center\")\n",
    "plt.xticks([1,2,3,4], [\"Slow\", \"Medium-Slow\", \"Medium-Fast\", \"Fast\"], rotation=45)\n",
    "plt.xlabel(\"Relative Tempo of Songs\")\n",
    "plt.ylabel(\"Average Length of Songs\")\n",
    "plt.tight_layout()\n",
    "plt.savefig(\"Images/BPMCategoriesperLen.png\")"
   ]
  },
  {
   "cell_type": "code",
   "execution_count": 72,
   "metadata": {},
   "outputs": [
    {
     "data": {
      "image/png": "[encoded data removed]",
      "text/plain": [
       "<Figure size 432x288 with 1 Axes>"
      ]
     },
     "metadata": {
      "needs_background": "light"
     },
     "output_type": "display_data"
    }
   ],
   "source": [
    "num13 = compare_df.loc[(compare_df[\"Length\"] >= 96.0) & (compare_df[\"Length\"] < 201.0)]\n",
    "number13 = num13[\"Tempo\"].mean()\n",
    "std13 = num13[\"Tempo\"].std()\n",
    "\n",
    "num14 = compare_df.loc[(compare_df[\"Length\"] >= 201.0) & (compare_df[\"Length\"] < 230.0)]\n",
    "number14 = num14[\"Tempo\"].mean()\n",
    "std14 = num14[\"Tempo\"].std()\n",
    "\n",
    "num15 = compare_df.loc[(compare_df[\"Length\"] >= 230.0) & (compare_df[\"Length\"] < 264.0)]\n",
    "number15 = num15[\"Tempo\"].mean()\n",
    "std15 = num15[\"Tempo\"].std()\n",
    "\n",
    "num16 = compare_df.loc[(compare_df[\"Length\"] >= 264.0) & (compare_df[\"Length\"] < 536.0)]\n",
    "number16 = num16[\"Tempo\"].mean()\n",
    "std16 = num16[\"Tempo\"].std()\n",
    "\n",
    "numbers4 = [number13, number14, number15, number16]\n",
    "error4 = [std13, std14, std15, std16]\n",
    "x_axis = [1,2,3,4]\n",
    "\n",
    "plt.bar(x_axis, numbers4, yerr=error4, align=\"center\")\n",
    "plt.xticks([1,2,3,4], [\"Short\", \"Medium-Short\", \"Medium-Long\", \"Long\"], rotation=45)\n",
    "plt.xlabel(\"Relative Length of Songs\")\n",
    "plt.ylabel(\"Average Tempo of Songs\")\n",
    "plt.tight_layout()\n",
    "plt.savefig(\"Images/LenCategoriesperBPM.png\")"
   ]
  },
  {
   "cell_type": "code",
   "execution_count": null,
   "metadata": {},
   "outputs": [],
   "source": []
  }
 ],
 "metadata": {
  "kernelspec": {
   "display_name": "Python 3",
   "language": "python",
   "name": "python3"
  },
  "language_info": {
   "codemirror_mode": {
    "name": "ipython",
    "version": 3
   },
   "file_extension": ".py",
   "mimetype": "text/x-python",
   "name": "python",
   "nbconvert_exporter": "python",
   "pygments_lexer": "ipython3",
   "version": "3.7.6"
  }
 },
 "nbformat": 4,
 "nbformat_minor": 4
}
