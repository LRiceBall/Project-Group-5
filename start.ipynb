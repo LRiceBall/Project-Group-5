{
 "cells": [
  {
   "cell_type": "code",
   "execution_count": 35,
   "metadata": {},
   "outputs": [],
   "source": [
    "import pandas as pd\n",
    "\n",
    "file1 = \"Resources/Hot 100 Audio Features.csv\"\n",
    "file2 = \"Resources/Hot Stuff.csv\"\n",
    "\n",
    "audio_features = pd.read_csv(file1)\n",
    "hot100 = pd.read_csv(file2)\n",
    "\n",
    "merge_df = pd.merge(audio_features, hot100, on=[\"Song\", \"Performer\", \"SongID\"], how=\"outer\")\n",
    "merge_df.head()\n",
    "\n",
    "# merge csv by columns\n",
    "merge_df.columns\n",
    "\n",
    "# select desired columns\n",
    "reduced_df = merge_df[['Performer', 'Song', 'spotify_genre', 'spotify_track_duration_ms',\n",
    "                       'spotify_track_popularity', 'danceability', 'energy', 'loudness', 'valence', \n",
    "                       'tempo', 'WeekID', 'Week Position', 'Previous Week Position', 'Peak Position',\n",
    "                       'Weeks on Chart']]\n",
    "reduced_df\n",
    "\n",
    "# change NaN to 0\n",
    "reduced_df.fillna(0)\n",
    "\n",
    "# reduce columns for energy and loudness\n",
    "attributes_df = reduced_df[['Performer', 'Song', 'spotify_genre', 'energy', 'loudness', \n",
    "                       'WeekID', 'Week Position', 'Previous Week Position', 'Peak Position',\n",
    "                       'Weeks on Chart']]\n",
    "attributes_df\n",
    "\n",
    "# number of times a song is in the top 100\n",
    "attributes_df[\"Song\"].value_counts()\n",
    "\n",
    "# select only songs in top 40\n",
    "top40 = attributes_df.loc[attributes_df['Week Position'] <= 40, :]\n",
    "top40\n",
    "\n",
    "# each time a song is listed as being in the top 100 the \"weeks on chart\" is the moist CURRENT number\n",
    "    # there for all different\n",
    "# get the highest amount of weeks a song has been in the top 40.\n",
    "top40_song = top40.groupby(['Performer','Song'], as_index=False)\n",
    "\n",
    "max_weeks = top40_song['Weeks on Chart'].max()\n",
    "max_weeks\n",
    "\n",
    "# sort by frequency on top 40\n",
    "ranking_songs = max_weeks.sort_values(\"Weeks on Chart\", ascending=False)\n",
    "ranking_songs\n",
    "\n",
    "# reduce columns to focus on loudness\n",
    "loudness_df = top40[['Performer', 'Song', 'spotify_genre', 'loudness', 'Peak Position', 'Weeks on Chart']]\n",
    "loudness_df\n",
    "\n",
    "\n",
    "# remove NaN values in the genre and loudness columns\n",
    "loudness_df = loudness_df[loudness_df['spotify_genre'].notna()]\n",
    "loudness_df = loudness_df[loudness_df['loudness'].notna()]\n",
    "loudness_df\n",
    "\n",
    "# get the max loudness value\n",
    "loudness_df['loudness'].max()\n",
    "\n",
    "# get the min loudness value\n",
    "loudness_df['loudness'].min()\n",
    "\n",
    "# create a new column in bins based on loudness\n",
    "loud_bins = [-30, -25, -20, -15, -10, -5, 0]\n",
    "loud_labels = ['quiet', 'med quiet', 'low quiet', 'low loud', 'med loud', 'loud']\n",
    "\n",
    "loudness_df[\"loudness category\"] = pd.cut(loudness_df[\"loudness\"], loud_bins, \n",
    "                                          labels=loud_labels, right=False)\n",
    "loudness_df\n",
    "\n",
    "# reduce columns to focus on energy\n",
    "energy_df = top40[['Performer', 'Song', 'spotify_genre', 'energy', 'Peak Position', 'Weeks on Chart']]\n",
    "energy_df\n",
    "\n",
    "# remove NaN values in genre and energy columns\n",
    "energy_df = energy_df[energy_df['spotify_genre'].notna()]\n",
    "energy_df = energy_df[energy_df['energy'].notna()]\n",
    "energy_df\n",
    "\n",
    "\n",
    "\n"
   ]
  },
  {
   "cell_type": "code",
   "execution_count": 34,
   "metadata": {},
   "outputs": [
    {
     "data": {
      "text/plain": [
       "['dance pop', 'pop']    4\n",
       "['pop reggaeton']       1\n",
       "Name: spotify_genre, dtype: int64"
      ]
     },
     "execution_count": 34,
     "metadata": {},
     "output_type": "execute_result"
    }
   ],
   "source": []
  },
  {
   "cell_type": "code",
   "execution_count": null,
   "metadata": {},
   "outputs": [],
   "source": []
  }
 ],
 "metadata": {
  "kernelspec": {
   "display_name": "Python 3",
   "language": "python",
   "name": "python3"
  },
  "language_info": {
   "codemirror_mode": {
    "name": "ipython",
    "version": 3
   },
   "file_extension": ".py",
   "mimetype": "text/x-python",
   "name": "python",
   "nbconvert_exporter": "python",
   "pygments_lexer": "ipython3",
   "version": "3.7.6"
  }
 },
 "nbformat": 4,
 "nbformat_minor": 4
}
